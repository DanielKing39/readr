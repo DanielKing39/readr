{
 "cells": [
  {
   "cell_type": "markdown",
   "metadata": {},
   "source": [
    "![title](https://i.imgur.com/4MEoMNd.png)"
   ]
  },
  {
   "cell_type": "markdown",
   "metadata": {},
   "source": [
    "![image](https://imgs.xkcd.com/comics/newton_and_leibniz.png)"
   ]
  },
  {
   "cell_type": "code",
   "execution_count": 84,
   "metadata": {
    "collapsed": true
   },
   "outputs": [],
   "source": [
    "import numpy as np\n",
    "import matplotlib.pyplot as plt\n",
    "%matplotlib inline"
   ]
  },
  {
   "cell_type": "code",
   "execution_count": 1,
   "metadata": {
    "collapsed": false
   },
   "outputs": [
    {
     "data": {
      "text/html": [
       "<style>.bs-callout{padding:20px;margin:20px 0;border:1px solid #eee;border-left-width:5px;border-radius:3px}.bs-callout h4{margin-top:0;margin-bottom:5px}.bs-callout p:last-child{margin-bottom:0}.bs-callout code{border-radius:3px}.bs-callout+.bs-callout{margin-top:-5px}.bs-callout-default{border-left-color:#777}.bs-callout-default h4{color:#777}.bs-callout-primary{border-left-color:#428bca; background-color:#e1ecff }.bs-callout-primary h4{color:#428bca}.bs-callout-success{border-left-color:#5cb85c; background-color: #e1ffe5 }.bs-callout-success h4{color:#5cb85c}.bs-callout-danger{border-left-color:#d9534f; background-color: #ffe1e1 }.bs-callout-danger h4{color:#d9534f}.bs-callout-warning{border-left-color:#f0ad4e}.bs-callout-warning h4{color:#f0ad4e}.bs-callout-info{border-left-color:#5bc0de}.bs-callout-info h4{color:#5bc0de}</style>"
      ],
      "text/plain": [
       "<IPython.core.display.HTML object>"
      ]
     },
     "metadata": {},
     "output_type": "display_data"
    }
   ],
   "source": [
    "%%html\n",
    "<style>.bs-callout{padding:20px;margin:20px 0;border:1px solid #eee;border-left-width:5px;border-radius:3px}.bs-callout h4{margin-top:0;margin-bottom:5px}.bs-callout p:last-child{margin-bottom:0}.bs-callout code{border-radius:3px}.bs-callout+.bs-callout{margin-top:-5px}.bs-callout-default{border-left-color:#777}.bs-callout-default h4{color:#777}.bs-callout-primary{border-left-color:#428bca; background-color:#e1ecff }.bs-callout-primary h4{color:#428bca}.bs-callout-success{border-left-color:#5cb85c; background-color: #e1ffe5 }.bs-callout-success h4{color:#5cb85c}.bs-callout-danger{border-left-color:#d9534f; background-color: #ffe1e1 }.bs-callout-danger h4{color:#d9534f}.bs-callout-warning{border-left-color:#f0ad4e}.bs-callout-warning h4{color:#f0ad4e}.bs-callout-info{border-left-color:#5bc0de}.bs-callout-info h4{color:#5bc0de}</style>"
   ]
  },
  {
   "cell_type": "markdown",
   "metadata": {},
   "source": [
    "# Differentiation, ODEs, and first order initial value problems\n",
    "\n",
    "Differential equations describe a wide variety of physical phenomena, however\n",
    "not all systems of differential equations can be solved analytically. Thus,\n",
    "numeric approximations fill an important void, providing us with methods\n",
    "to model and analyse physical systems when analytic tools fall short.\n",
    "\n",
    "In this notebook, we will provide a brief introduction to numerical methods\n",
    "of solving first order ordinary differential equations (ODEs) using finite-\n",
    "difference methods."
   ]
  },
  {
   "cell_type": "markdown",
   "metadata": {},
   "source": [
    "# Maths behind the programming: The Method of Finite Differences\n",
    "\n",
    "## First order forwards difference\n",
    "\n",
    "Consider the derivative of a function $f(x)$, defined by \n",
    "\n",
    "\\begin{align}\n",
    "f'(x)=\\lim_{h\\rightarrow0}\\frac{f(x+h)-f(x)}{h}\n",
    "\\end{align}\n",
    "\n",
    "How can we compute this using a computer? Assuming we keep $h$ small (i.e. $h\\ll1$), we might reason that a fairly reasonable approximation might be\n",
    "\n",
    "$$\\begin{align}f'(x)\\approx \\frac{f(x+h)-f(x)}{h}\\end{align}$$\n",
    "\n",
    "This is known as the **finite difference approximation**, with $h$ referred to as the **step size**.\n",
    "\n",
    "Let's consider a quick example.\n",
    "\n",
    "---\n",
    "<div class=\"alert alert-block alert-warning\">\n",
    "\n",
    "**Example:**\n",
    "<br>\n",
    "Numerically calculate the derivative of $f(x) = e^x \\sin(x^2)$ at $x = 3$.\n",
    "</div>\n",
    "\n",
    "**Solution:** Using the finite difference approximation,\n",
    "\n",
    "$$f'(x)\\approx \\frac{f(x+h)-f(x)}{h}=\\frac{e^{x+h}\\sin[(x+h)^2]-e^x\\sin(x^2)}{h}$$\n",
    "\n",
    "Choosing $h=0.001$ (such that $h\\ll 1$), we find that:\n",
    "\n",
    "$$f'(3)\\approx =\\frac{e^{3.001}\\sin(3.001^2)-e^3\\sin(3^2)}{0.001}$$\n",
    "\n",
    "We can evaluate this using Python and NumPy:"
   ]
  },
  {
   "cell_type": "code",
   "execution_count": 6,
   "metadata": {
    "collapsed": false
   },
   "outputs": [
    {
     "data": {
      "text/plain": [
       "-101.79819458746309"
      ]
     },
     "execution_count": 6,
     "metadata": {},
     "output_type": "execute_result"
    }
   ],
   "source": [
    "h = 0.001\n",
    "\n",
    "def f(x):\n",
    "    return np.exp(x)*np.sin(x**2)\n",
    "\n",
    "(f(3+h)-f(3))/h"
   ]
  },
  {
   "cell_type": "markdown",
   "metadata": {},
   "source": [
    "<div class=\"alert alert-block alert-info\">\n",
    "**Problem 1:**\n",
    "<br>\n",
    "Find the derivative analytically, and compare the result to the answer we got above. What is the absolute error in our approximation? What is the percentage error?\n",
    "</div>"
   ]
  },
  {
   "cell_type": "code",
   "execution_count": null,
   "metadata": {
    "collapsed": false
   },
   "outputs": [],
   "source": []
  },
  {
   "cell_type": "markdown",
   "metadata": {},
   "source": [
    "### Why is it called the first order forwards difference?\n",
    "\n",
    "But can we do better, and actually quantify the error in the finite-difference approximation? Let's consider the Taylor series expansion of $f(x+h)$. Recall that the Taylor series is defined by\n",
    "\n",
    "\\begin{align}\n",
    "\tf(x) = \\sum_{n=0}^\\infty \\frac{1}{n!}(x-x_0)^n f^{(n)}(x_0)\n",
    "\\end{align}\n",
    "\n",
    "Now, expanding $f(x+h)$ as a Taylor series of variable $h$, around initial point $x_0=x$,\n",
    "\n",
    "\\begin{align}\n",
    "\tf(x+h) &= \\sum_{n=0}^\\infty \\frac{1}{n!}(x+h-x)^n f^{(n)}(x) = \\sum_{n=0}^\\infty \\frac{1}{n!}h^n f^{(n)}(x)\n",
    "\\end{align}\n",
    "\n",
    "and writing out the first few terms,\n",
    "\n",
    "\\begin{align}\n",
    "\tf(x+h) = f(x) + h f'(x) + \\frac{1}{2}h^{2}f''(x) + \\frac{1}{6}h^3 f'''(x)+\\mathcal{O}(h^4)\n",
    "\\end{align}\n",
    "\n",
    "<br>\n",
    "<div class=\"alert alert-block alert-success\">\n",
    "**Note:**\n",
    "<br>\n",
    "the term $\\mathcal{O}(h^4)$ indicates that we are neglecting terms of order $h^4$ or smaller.\n",
    "</div>\n",
    "\n",
    "Solving this equation for $f'(x)$, we recover the finite-difference equation, now with additional higher order terms:\n",
    "\n",
    "\\begin{align}\n",
    "\tf'(x) = \\frac{f(x+h)-f(x)}{h}-\\frac{1}{2}hf''(x) - \\frac{1}{6}h^2 f'''(x)+ \\cdots\n",
    "\\end{align}\n",
    "\n",
    "or, using big O notation,\n",
    "\n",
    "\\begin{align}\n",
    "\t\\boxed{f'(x) = \\frac{f(x+h)-f(x)}{h} + \\mathcal{O}(h)}\n",
    "\\end{align}\n",
    "\n",
    "This tells us that this is a **first-order** finite-difference approximation -- the error is proportional to our step size, $h$, and scales linearly.\n",
    "\n",
    "\n",
    "<br>\n",
    "<div class=\"alert alert-block alert-success\">\n",
    "**Note:**\n",
    "<br>\n",
    "This error is known as **truncation** or **rounding error**. \n",
    "</div>"
   ]
  },
  {
   "cell_type": "markdown",
   "metadata": {},
   "source": [
    "## Backwards difference\n",
    "\n",
    "We just covered the forwards difference formula, so-called because it depends on the terms $f(x)$ and $f(x+h)$ -- i.e. we require the function value at the point we are interested in calculating $f'(x)$ as well as the function value at some small step \\textit{forwards}.\n",
    "\n",
    "By expanding $f(x-h)$, we can also define an analogous **backwards difference** formula:\n",
    "\n",
    "\\begin{align}\n",
    "\tf'(x) = \\frac{f(x)-f(x-h)}{h} + \\frac{1}{2} h f''(x)-\\frac{1}{6} h^2 f'''(x) + \\cdots\n",
    "\\end{align}\n",
    "\n",
    "or in big O notation,\n",
    "\n",
    "\\begin{align}\n",
    "\t\\boxed{f'(x)=\\frac{f(x)-f(x-h)}{h} + \\mathcal{O}(h)}\n",
    "\\end{align}\n",
    "\n",
    "Like the forwards difference method, this is still a first order method, however it now depends on the current function value and a 'previous' function value."
   ]
  },
  {
   "cell_type": "markdown",
   "metadata": {},
   "source": [
    "## Central differences\n",
    "\n",
    "If you look at the forward and backwards finite difference formulas, you may notice that they contain $-hf''(x)/2$ and $+hf''(x)/2$ terms respectively. Thus, adding these two expressions together, we get:\n",
    "\n",
    "\\begin{align}\n",
    "\t2f'(x) = &\\frac{f(x+h)-f(x)}{h} -\\frac{1}{2}hf''(x)-\\frac{1}{6}h^2f'''(x)+ \\frac{f(x)-f(x-h)}{h}  +\\frac{1}{2}hf''(x) -\\frac{1}{6}h^2 f'''(x)+ \\cdots\n",
    "\\end{align}\n",
    "\n",
    "Cancelling out and simplifying terms,\n",
    "\n",
    "\\begin{align}\n",
    "\tf'(x) = \\frac{f(x+h)-f(x-h)}{2h} - \\frac{1}{6}h^2 f'''(x) +\\cdots \n",
    "\\end{align}\n",
    "\n",
    "we arrive at the so-called \\textbf{central difference} formula:\n",
    "\n",
    "\\begin{align}\n",
    "\t\\boxed{f'(x) = \\frac{f(x+h)-f(x-h)}{2h} + \\mathcal{O}(h^2)}\n",
    "\\end{align}\n",
    "\n",
    "Unlike the forward and backwards methods, this is a **second-order** finite difference approximation -- the numerical error will scale as a function of the *square* of the step size, resulting in a closer approximation than the forward or backwards methods for the same step size.\n",
    "\n",
    "<br>\n",
    "<div class=\"alert alert-block alert-info\">\n",
    "**Problem 2:**\n",
    "<br>\n",
    "Numerically calculate the derivative of $f(x) = e^x \\sin(x^2)$ at $x = 3$ using the method of central finite differences.\n",
    "<br>\n",
    "Calculate the percentage error compared to the exact solution at $f'(3)$. How does the error compare to when we used the method of forward differences?\n",
    "</div>"
   ]
  },
  {
   "cell_type": "code",
   "execution_count": null,
   "metadata": {
    "collapsed": false
   },
   "outputs": [],
   "source": []
  },
  {
   "cell_type": "markdown",
   "metadata": {},
   "source": [
    "# The forward Euler method\n",
    "\n",
    "Approximating derivatives is one thing, but what if we want to solve the initial value problem \n",
    "\n",
    "\\begin{align}\n",
    "\t\\frac{dy}{dx} = f(y(x),x), ~~ y(x_0) = y_0\n",
    "\\end{align}\n",
    "\n",
    "How can we solve this ODE numerically? To start with, let's try applying the forward difference approximation to the left-hand side of the differential equation:\n",
    "\n",
    "\\begin{align}\n",
    "\t\\frac{y(x+h)-y(x)}{h} \\approx f(y(x),x)~~~\\Rightarrow~~~y(x+h) \\approx y(x) + h f(y(x),x)\n",
    "\\end{align}\n",
    "\n",
    "That is, we can approximate the value of $y(x+h)$ simply from the current value $y(x)$ -- this is known as the **forward Euler method**.\n",
    "\n",
    "## From maths to programming - discretisation\n",
    "\n",
    "But the above quantities ($y(x)$, $x$) are *continuous* variables -- how does this translate to a computer program?\n",
    "\n",
    "In order to do that, we need to **discretise** our system.\n",
    "\n",
    "To begin with, we choose a suitable step-size $h=\\Delta x$; small enough to reduce truncation error from the finite difference approximation, but not too small that precision/rounding errors are significant, and discretise the $x$-coordinate to produce a **discrete $x$ grid**:\n",
    "\n",
    "![image](https://i.imgur.com/SmA4DaD.png)\n",
    "\n",
    "That is, we have chosen $N$ discrete values of $x$, with $x_0\\leq x\\leq x_{N-1}$, each separated by step size $\\Delta x$:\n",
    "$$x_{n+1}-x_n=\\Delta x$$\n",
    "\n",
    "<br>\n",
    "<div class=\"alert alert-block alert-success\">\n",
    "**Note:**\n",
    "<br>\n",
    "Conveniently, since we have chosen a constant and unchanging step-size, we can write\n",
    "<br><br>\n",
    "\\begin{align}\n",
    "x_n=x_0+n\\Delta x\n",
    "\\end{align}\n",
    "<br>\n",
    "Since we know that for the final point in the grid, $x_{N-1}=x_0+(N-1)\\Delta x$, we can rearrange to get an expression for $N$ in terms of $\\Delta x$:\n",
    "<br><br>\n",
    "\\begin{align}N=\\frac{x_{N-1}-x_0}{\\Delta x}+1\\end{align}\n",
    "</div>\n",
    "\n",
    "We can now use the $x$-grid to discretise the function values itself, $y$:\n",
    "\n",
    "\\begin{align*}\n",
    "\ty_0 &= y(x_0)\\\\\n",
    "\ty_1 &= y(x_1)\\\\\n",
    "\t&~~\\vdots\\\\\n",
    "\ty_{N-1} &= y(x_{N-1})\n",
    "\\end{align*}\n",
    "\n",
    "Thus, in terms of our new discretised variables $x_n$ and $y_n$, and step size \n",
    "$\\Delta x$, the Euler method can be written\n",
    "\n",
    "\\begin{align}\n",
    "\t\\boxed{y_{n+1} \\approx y_n + \\Delta x f(y_n,x_n)}\n",
    "\\end{align}\n",
    "\n",
    "---\n",
    "**Aside:** NumPy makes it really easy to generate discrete grids, using the `np.arrange()` function.\n",
    "\n",
    "For example, if we have a discrete $x$ grid over the domain $-5<x<5$ with $\\Delta x=0.4$, then"
   ]
  },
  {
   "cell_type": "code",
   "execution_count": 12,
   "metadata": {
    "collapsed": false
   },
   "outputs": [
    {
     "data": {
      "text/plain": [
       "array([-5. , -4.6, -4.2, -3.8, -3.4, -3. , -2.6, -2.2, -1.8, -1.4, -1. ,\n",
       "       -0.6, -0.2,  0.2,  0.6,  1. ,  1.4,  1.8,  2.2,  2.6,  3. ,  3.4,\n",
       "        3.8,  4.2,  4.6,  5. ])"
      ]
     },
     "execution_count": 12,
     "metadata": {},
     "output_type": "execute_result"
    }
   ],
   "source": [
    "x = np.arange(-5,5.4,0.4)\n",
    "x"
   ]
  },
  {
   "cell_type": "markdown",
   "metadata": {},
   "source": [
    "We can then manipulate this grid directly using NumPy math functions:"
   ]
  },
  {
   "cell_type": "code",
   "execution_count": 13,
   "metadata": {
    "collapsed": false
   },
   "outputs": [
    {
     "data": {
      "text/plain": [
       "array([ 0.95892427,  0.993691  ,  0.87157577,  0.61185789,  0.2555411 ,\n",
       "       -0.14112001, -0.51550137, -0.8084964 , -0.97384763, -0.98544973,\n",
       "       -0.84147098, -0.56464247, -0.19866933,  0.19866933,  0.56464247,\n",
       "        0.84147098,  0.98544973,  0.97384763,  0.8084964 ,  0.51550137,\n",
       "        0.14112001, -0.2555411 , -0.61185789, -0.87157577, -0.993691  ,\n",
       "       -0.95892427])"
      ]
     },
     "execution_count": 13,
     "metadata": {},
     "output_type": "execute_result"
    }
   ],
   "source": [
    "y = np.sin(x)\n",
    "y"
   ]
  },
  {
   "cell_type": "markdown",
   "metadata": {},
   "source": [
    "---\n",
    "\n",
    "<br>\n",
    "<div class=\"alert alert-block alert-warning\">\n",
    "**Example 3:**\n",
    "<br>\n",
    "Solve the initial value problem\n",
    "<br>\n",
    "$$\\frac{dy}{dx} = x y(x), ~~~y(0)=2$$ analytically, by using seperation of variables and integrating.\n",
    "</div>"
   ]
  },
  {
   "cell_type": "markdown",
   "metadata": {
    "collapsed": true
   },
   "source": [
    "$$\\int_{y(0)}^{y(x)} \\frac{1}{y}~dy = \\int_0^x x' ~dx' ~~~~\\Rightarrow~~~~ \n",
    "\\left[\\ln(y)\\right]_{2}^{y(x)} = \\left[\\frac{1}{2}x'^2\\right]_0^x  ~~~~\\Rightarrow~~~~ \n",
    "\\ln(y(x)) - \\ln(2) = \\frac{1}{2}x^2  ~~~~\\Rightarrow~~~~ \n",
    "y(x) = 2e^{x^2/2}\n",
    "$$"
   ]
  },
  {
   "cell_type": "markdown",
   "metadata": {},
   "source": [
    "<br>\n",
    "<div class=\"alert alert-block alert-info\">\n",
    "**Problem 4:**\n",
    "<br>\n",
    "Use the forward Euler method to solve the initial value problem\n",
    "<br><br>\n",
    "$$y'(x) = x y(x), ~~~y(0)=2$$\n",
    "<br>\n",
    "between $0\\leq x\\leq 1$, with a grid spacing of $\\Delta x=0.1$.\n",
    "<br><br>\n",
    "Repeat with a grid spacing of $\\Delta x=0.01$.\n",
    "<br><br>\n",
    "*Hint: create the discretised $x$ grid, and rewrite the ODE using the forward Euler method. Then, start at the initial value, and use a for loop to calculate each $y_{n+1}$!*\n",
    "</div>"
   ]
  },
  {
   "cell_type": "code",
   "execution_count": null,
   "metadata": {
    "collapsed": false
   },
   "outputs": [],
   "source": [
    "# ODE solution for dx = 0.1\n",
    "dx1 = 0.1\n",
    "x1 = np.arange(0,1+dx1,dx1)\n",
    "N1 = len(x1)\n",
    "\n",
    "# create an empty array for y,\n",
    "# making sure it is the same length \n",
    "# as the x grid\n",
    "yEuler1 = np.zeros((N1))\n",
    "\n",
    "# set the initial condition:\n",
    "yEuler1[0] = 2\n",
    "\n",
    "#forward Euler method:\n",
    "for i in range(1,N1):\n",
    "    # insert your code here!"
   ]
  },
  {
   "cell_type": "markdown",
   "metadata": {},
   "source": [
    "<br>\n",
    "<div class=\"alert alert-block alert-info\">\n",
    "**Problem 5:**\n",
    "<br>\n",
    "Below, I've include a matplotlib plotting 'template'. Uncomment the required lines, to view the plots of your Euler method solutions from the above exercise for $\\Delta x=0.1$ and $\\Delta x=0.01$.\n",
    "</div>"
   ]
  },
  {
   "cell_type": "code",
   "execution_count": null,
   "metadata": {
    "collapsed": false
   },
   "outputs": [],
   "source": [
    "# The exact solution\n",
    "x = np.arange(0,1+0.01,0.01)\n",
    "yExact = 2*np.exp(x**2/2)\n",
    "\n",
    "plt.plot(x,yExact)\n",
    "# plt.plot(x1,yEuler1)\n",
    "# plt.plot(x2,yEuler2)\n",
    "\n",
    "plt.xlabel('x')\n",
    "plt.ylabel('y')\n",
    "plt.grid(alpha=0.3)\n",
    "labels = ['Exact', '$\\Delta x=0.1$', '$\\Delta x=0.01$']\n",
    "plt.legend(labels, loc='center left', bbox_to_anchor=(1, 0.5))"
   ]
  },
  {
   "cell_type": "markdown",
   "metadata": {},
   "source": [
    "## Numerical Error\n",
    "\n",
    "### Local error\n",
    "\n",
    "**Step truncation error** is the **local** error that occurs at each time step. This can be calculated by taking the Taylor series of $y(x+h)$,\n",
    "\n",
    "\\begin{align*}\n",
    "\ty(x+h) = y(x) + hy'(x) + \\frac{1}{2}h^2y''(x) + \\mathcal{O}(h^3)\n",
    "\\end{align*}\n",
    "\n",
    "and subtracting the forward Euler formula $y_{FE}(x+h)\\approx y(x)+hf(y,x)$:\n",
    "<br><br>\n",
    "\\begin{align*}\n",
    "\ty(x+h) - y_{FE}(x+h)&= \\left[ y(x) + hy'(x) + \\frac{1}{2}h^2y''(x) + \\mathcal{O}(h^3) \\right]- [y(x)+hy'(x)]\\\\[5pt]\n",
    "\t&= \\frac{1}{2}h^2y''(x) + \\mathcal{O}(h^3)\\\\[5pt]\n",
    "\t&= \\mathcal{O}(h^2)\n",
    "\\end{align*}\n",
    "\n",
    "\n",
    "Thus the forward Euler method has a local or step truncation error at each iteration that is *bounded* by $h^2$ for $h\\ll 1$.\n",
    "\n",
    "\n",
    "\n",
    "<br>\n",
    "<div class=\"alert alert-block alert-success\">\n",
    "**Note:**\n",
    "Recall that the ODE we are solving is $y'(x)=f(y,x)$ so by definition $f(y,x)=y'(x)$!\n",
    "</div>\n",
    "\n",
    "### Global error\n",
    "\n",
    "Global error is the error that results due to the local or step error cumulating over numerous iterations.\n",
    "\n",
    "For example, say $n$ steps of the Euler method have been iterated -- we know that\n",
    "\n",
    "$$x_{n-1}=x_0+n h~~~\\Rightarrow~~~n=\\frac{x_{n-1}-x_0}{h}$$\n",
    "\n",
    "Thus, the total global error must be bounded by\n",
    "\n",
    "$$n\\times\\text{step error}=\\frac{x_{n-1}-x_0}{h}\\times\\frac{1}{2}h^2y'(x)=\\mathcal{O}(h)$$\n",
    "\n",
    "As the global error scales linearly with $h$, the forward Euler method is a **first-order** algorithm."
   ]
  },
  {
   "cell_type": "markdown",
   "metadata": {},
   "source": [
    "## Stability\n",
    "\n",
    "When working with numerical ODE solvers like the forward Euler method, numerical error seems like a big enough issue, but unfortunately not the only one we have to worry about.\n",
    "\n",
    "So, what's this other impediment we have to deal with?\n",
    "\n",
    "**Stability**.\n",
    "\n",
    "It turns out, that the forward Euler method can be numerically unstable - meaning, it has a numerical solution that oscillates wildly and grows - for particular values of $\\Delta x$.\n",
    "\n",
    "To see where this might happen, let's have a look at a quick example.\n",
    "\n",
    "---\n",
    "\n",
    "<br>\n",
    "<div class=\"alert alert-block alert-warning\">\n",
    "**Example:**\n",
    "<br>\n",
    "Use the Euler method to solve the ODE <br>$$y'(x) = −ky(x)$$<br> with initial condition $y(0) = 1$ and $k=0.5$, over domain $0\\leq x \\leq 10$.\n",
    "<br><br>\n",
    "Use an $x$ grid spacing of $\\Delta x = 0.5$.\n",
    "</div>\n",
    "\n",
    "Now, assuming $k>0$, this ODE is pretty simple, and simply describes a system undergoing exponential decay. It's exact solution is therefore:\n",
    "\n",
    "$$ y(x) = e^{-kx}$$"
   ]
  },
  {
   "cell_type": "code",
   "execution_count": 66,
   "metadata": {
    "collapsed": true
   },
   "outputs": [],
   "source": [
    "def yexact(x):\n",
    "    return np.exp(-1*x)"
   ]
  },
  {
   "cell_type": "markdown",
   "metadata": {},
   "source": [
    "Let's solve this example using the forward Euler method, $\\Delta x=0.5$, and compare it to the exact solution."
   ]
  },
  {
   "cell_type": "code",
   "execution_count": 67,
   "metadata": {
    "collapsed": false
   },
   "outputs": [],
   "source": [
    "dx = 0.5\n",
    "# creating the xgrid\n",
    "x = np.arange(0,10+dx,dx)\n",
    "N = len(x)\n",
    "\n",
    "# initilise the y grid\n",
    "y = np.zeros([N])\n",
    "\n",
    "# insert the initial condition\n",
    "y[0] = 1\n",
    "\n",
    "# set k value\n",
    "k = -1\n",
    "\n",
    "# use a For loop to implement the forward Euler method\n",
    "for n in range(0,N-1):\n",
    "    y[n+1] = y[n] + dx*(k*y[n])"
   ]
  },
  {
   "cell_type": "markdown",
   "metadata": {},
   "source": [
    "Now, plotting our numerical solution and the exact solution:"
   ]
  },
  {
   "cell_type": "code",
   "execution_count": 69,
   "metadata": {
    "collapsed": false
   },
   "outputs": [
    {
     "data": {
      "text/plain": [
       "<matplotlib.legend.Legend at 0x7f954d75c240>"
      ]
     },
     "execution_count": 69,
     "metadata": {},
     "output_type": "execute_result"
    },
    {
     "data": {
      "image/png": "[encoded data removed]",
      "text/plain": [
       "<matplotlib.figure.Figure at 0x7f954d6c9f60>"
      ]
     },
     "metadata": {},
     "output_type": "display_data"
    }
   ],
   "source": [
    "plt.plot(x,yexact(x))\n",
    "plt.plot(x,y, marker='.')\n",
    "\n",
    "plt.xlabel('x')\n",
    "plt.ylabel('y')\n",
    "plt.grid(alpha=0.3)\n",
    "labels = ['Exact', '$\\Delta x=0.5$']\n",
    "plt.legend(labels, loc='center left', bbox_to_anchor=(1, 0.5))"
   ]
  },
  {
   "cell_type": "markdown",
   "metadata": {},
   "source": [
    "Not a bad result!\n",
    "\n",
    "<br>\n",
    "<div class=\"alert alert-block alert-info\">\n",
    "**Problem 6:**\n",
    "<br>\n",
    "Now, go back to the beginning of the example, and change the grid spacing to the following values:\n",
    "<ul>\n",
    "<li> $\\Delta x = 0.9$ </li>\n",
    "<li>  $\\Delta x = 1$</li> \n",
    "<li> $\\Delta x = 1.4$</li> \n",
    "</ul>\n",
    "What do you notice happens to our numerical solution?\n",
    "</div>"
   ]
  },
  {
   "cell_type": "code",
   "execution_count": null,
   "metadata": {
    "collapsed": false
   },
   "outputs": [],
   "source": []
  },
  {
   "cell_type": "markdown",
   "metadata": {},
   "source": [
    "To analyse what's actually happening here, let's consider the ratio $y_{n+1}/y_n$:\n",
    "\n",
    "\\begin{align*}\n",
    "\t\ty_{n+1} = y_n -ky_n\\Delta x = y_n(1-k\\Delta x) ~~~ \\Rightarrow~~~ \\frac{y_{n+1}}{y_n} =1-k\\Delta x\n",
    "\\end{align*}\n",
    "    \n",
    "This allows us to solve the recursion relation to find $y_n$ in terms of $n$:\n",
    "\n",
    "\\begin{align*}\n",
    "    y_{n} = \\frac{y_{n}}{y_{n-1}}\\frac{y_{n-1}}{y_{n-2}}\\cdots \\frac{y_1}{y_0}y_0 = y_0(1-k\\Delta x)^n\n",
    "\\end{align*}\n",
    "\n",
    "Now, we know from $\\lim_{x\\rightarrow\\infty}e^{-kx}=0$ that the behaviour of the solution should tend towards 0 as $x$ increases. Since $\\lim_{n\\rightarrow\\infty}a^n=0$ if and only if $|a|<1$, we require\n",
    "\n",
    "\\begin{align*}\n",
    "    |1-k\\Delta x|<1 ~~~ \\Rightarrow ~~~ \\Delta x < \\frac{2}{k}\n",
    "\\end{align*}\n",
    "\n",
    "to ensure that the numerical solution remains stable as $n$ increases. Otherwise, if $\\Delta x > 2/k$, we will find that as $n$ increases, the numerical solution oscillates and grows, with $y_n\\rightarrow\\infty$ as $n\\rightarrow\\infty$.\n",
    "\n",
    "\n",
    "----\n",
    "\n",
    "<div class=\"bs-callout bs-callout-warning\">\n",
    "\n",
    "<h4>Aside: Stability derivation</h4>\n",
    "<br>\n",
    "Let's consider the stability in a slightly more rigorous fashion. Say we want to solve the general initial value problem $y'(x)=f(y(x),x)$ with initial condition $y(0)=y_0$. Using the forward Euler method,\n",
    "<br>\n",
    "\\begin{align}\n",
    "\ty_{n+1} = y_n +\\Delta x f(y_n,x_n)\n",
    "\\end{align}\n",
    "<br>\n",
    "However, now lets assume there is some small numerical error present in the estimation of $y_n$; this can be represented as $\\delta y_n$:\n",
    "<br><br>\n",
    "\\begin{align}\n",
    "\t(y_n + \\delta y_n) + \\Delta x f(y_n+\\delta y_n,x_n)\n",
    "\\end{align}\n",
    "<br>\n",
    "Since $\\delta y<<1$, we can neglect terms of order $\\delta y^2$ or higher; thus, doing the first order Taylor expansion of $f$ around $\\delta y_n$,\n",
    "<br><br>\n",
    "\\begin{align}\n",
    "\t&\\Rightarrow~~y_n + \\delta y_n + \\Delta x \\left[f(y_n,x_n)+\\delta y_n \\frac{\\partial}{\\partial y_n}f(y_n,x_n) + \\mathcal{O}(\\delta y^2)\\right]\\\\[7pt]\n",
    "\t&\\Rightarrow~~ (y_n + \\Delta x f(y_n,x_n)) + \\left( 1 + \\Delta x\\frac{\\partial f}{\\partial y_n} \\right)\\delta y_n\n",
    "\\end{align}\n",
    "<br>\n",
    "The first bracketed term we recognise as simply the forward Euler method applied to point $y_n$. Thus we can deduce that the second term represents the numerical error present in $y_{n+1}$ **due to** the presence of $\\delta y_n$:\n",
    "<br><br>\n",
    "\\begin{align}\n",
    "\t\\delta y_{n+1} =  \\left( 1 + \\Delta x\\frac{\\partial f}{\\partial y_n} \\right)\\delta y_n\n",
    "\\end{align}\n",
    "<br>\n",
    "It is easy to see now that the forward Euler method is only stable (i.e. the numerical error of successive steps does not grow unconditionally) if\n",
    "<br><br>\n",
    "\\begin{align}\n",
    "\t \\left| 1 + \\Delta x\\frac{\\partial f}{\\partial y} \\right| \\leq 1\n",
    "\\end{align}\n",
    "<br>\n",
    "Solving this for a potentially complex function $f(y,x)$, and using the notation $f_y\\equiv\\partial f/\\partial y$,\n",
    "<br><br>\n",
    "\\begin{align}\n",
    "\t0< \\Delta x \\leq - \\frac{2\\text{Re}(f_y)}{|f_y|^2}\n",
    "\\end{align}\n",
    "<br>\n",
    "\n",
    "</div>\n",
    "\n",
    "A couple of things to note:\n",
    "\n",
    "* If $\\text{Re}(f_y)<0$:\n",
    "  * The system is **conditionally stable** -- there exists some $\\Delta x$ that satisfies $\\Delta x \\leq - 2\\text{Re}(f_y)/|f_y|^2$|\n",
    "  \n",
    "  \n",
    "* If $\\text{Re}(f_y)\\geq 0$:\n",
    "  * The system is **unconditionally unstable** -- the right hand side is always less than zero and there is *no* value of $\\Delta x$ which satisfies it. This includes *oscillating* ODEs, with ODE given by $y'(x) = \\pm i\\omega y(x)$|\n",
    "\n",
    "So this looks all well and good, right? Just make sure that we the ODE is conditionally stable, and we should be good!\n",
    "\n",
    "Not quite.\n",
    "\n",
    "From the equation for conditional stability, if $\\text{Im}(f_y)$ is large, then the value of $\\Delta x$ required for stability will be exceedingly small, requiring an increase in computation time.\n",
    "\n",
    "And what happens if the ODE is unconditionally unstable? We'll have to ditch the first order forward Euler method altogether, and choose a method that ends up being stable!"
   ]
  },
  {
   "cell_type": "markdown",
   "metadata": {},
   "source": [
    "# The leap-frog method\n",
    "\n",
    "Rather than use the first-order Euler finite difference formulas, let's instead solve a first order ODE using the central difference formula:\n",
    "\n",
    "\\begin{align}\n",
    "\ty'(x) = f(y(x),x) &~~~\\Rightarrow~~~ \\frac{y(x+h)-y(x-h)}{2h} \\approx f(y(x),x)\\\\[5pt]\n",
    "\t&~~~\\Rightarrow~~~ y(x+h) \\approx y(x-h) + 2hf(y(x),x)\n",
    "\\end{align}\n",
    "\n",
    "Or, in discrete form,\n",
    "\n",
    "\\begin{align}\n",
    "\t\\boxed{y_{n+1}\\approx y_{n-1}+2\\Delta x f(y_n,x_n) }\n",
    "\\end{align}\n",
    "\n",
    "This is the **leap-frog** algorithm.\n",
    "\n",
    "<br>\n",
    "<div class=\"alert alert-success\">\n",
    "**Note:**\n",
    "<br>\n",
    "In order to use the leap-frog method, two initial conditions are required, $y_0$ and $y_1$.\n",
    "<br><br>\n",
    "$y_0$ is always given in initial value problems, whilst $y_1$ can be calculated via one iteration of the forward Euler method.\n",
    "</div>\n",
    "\n",
    "## Numerical error\n",
    "\n",
    "Subtracting the leap-frog formula from the Taylor series of $y(x+h)$,\n",
    "\n",
    "\\begin{align*}\n",
    "\ty(x+h) - y_{LF}(x+h)&= \\left[ y(x) + hy'(x) + \\frac{1}{2}h^2y''(x) + \\mathcal{O}(h^3) \\right]- [y(x-h) + 2hy'(x)]\\\\[5pt]\n",
    "\t&= \\left[y(x) -hy'(x) + \\frac{1}{2}h^2y''(x) + \\mathcal{O}(h^3)\\right] -y(x-h)\n",
    "\\end{align*}\n",
    "\n",
    "and substituting in the Taylor series of $y(x-h)$,\n",
    "\n",
    "\\begin{align*}\n",
    "\ty(x-h) = y(x) - hy'(x) + \\frac{1}{2}h^2y''(x) + \\mathcal{O}(h^3) \n",
    "\\end{align*}\n",
    "\n",
    "we find that all terms of order $h^2$ and less cancel out, leaving\n",
    "\n",
    "\\begin{align}\n",
    "\ty(x+h) - &y_{LF}(x+h) = \\mathcal{O}(h^3)\n",
    "\\end{align}\n",
    "\n",
    "Therefore the leap-frog method has a step truncation error bounded by $h^3$. Calculating the global error after $n$ time steps,\n",
    "\n",
    "\\begin{align*}\n",
    "\tn\\times\\text{step error} = \\frac{1}{h}(x_{n-1}-x_0)\\times\\mathcal{O}(h^3) = \\mathcal{O}(h^2)\n",
    "\\end{align*}\n",
    "\n",
    "so the leap-frog method is accurate to **second-order**.\n",
    "\n",
    "---\n",
    "\n",
    "<div class=\"alert alert-info\">\n",
    "**Problem 7:**\n",
    "<br>\n",
    "The decay equation models the decay of excited atoms with the first order ODE\n",
    "\n",
    "$$N'(t)=-\\frac{1}{\\tau}N(t)$$\n",
    "\n",
    "Let $N(0)=100$, and $\\tau=5$.\n",
    "<br><br>\n",
    "The exact solution to the ODE is given by:\n",
    "</div>"
   ]
  },
  {
   "cell_type": "code",
   "execution_count": 125,
   "metadata": {
    "collapsed": true
   },
   "outputs": [],
   "source": [
    "def Nexact(t):\n",
    "    return 100*np.exp(-0.2*t)"
   ]
  },
  {
   "cell_type": "markdown",
   "metadata": {},
   "source": [
    "<div class=\"alert alert-info\">\n",
    "Below, I have provided a Python list containing values of $\\Delta t$ from $10^{-6}$ to $10^1$, with each element increasing by an order of 10:\n",
    "</div>"
   ]
  },
  {
   "cell_type": "code",
   "execution_count": 126,
   "metadata": {
    "collapsed": true
   },
   "outputs": [],
   "source": [
    "dtvals = [10**i for i in range(-6,1)]"
   ]
  },
  {
   "cell_type": "markdown",
   "metadata": {},
   "source": [
    "<div class=\"alert alert-info\">\n",
    "a) Solve the ODE using the forward Euler equation, for each of the $\\Delta t$ in the Python list, over the domain $0\\leq t\\leq 5$.\n",
    "<br><br>\n",
    "Do *not* store the intermediate values, just the final value at $t=5$! Use this value to calculate the resulting global error from the forward Euler method at point $t=5$:\n",
    "<br><br>\n",
    "$$ \\text{err}(\\Delta t) = \\left|\\frac{N_{euler}(5) - N_{exact}(5)}{N_{exact}(5)}\\right|$$\n",
    "<br><br>\n",
    "You should end up with a list containing the pairs $(\\Delta t, \\text{err}(\\Delta t)$.\n",
    "</div>"
   ]
  },
  {
   "cell_type": "code",
   "execution_count": 128,
   "metadata": {
    "collapsed": false
   },
   "outputs": [],
   "source": [
    "# use a For loop to find the forward euler error\n",
    "FEerr = []\n",
    "for dt in dtvals:\n",
    "    # insert forward Euler method here\n",
    "    \n",
    "    error = np.abs( (eulerRes - yexact(5)) / yexact(5) )\n",
    "    \n",
    "    FEerr.append(error)"
   ]
  },
  {
   "cell_type": "markdown",
   "metadata": {},
   "source": [
    "<div class=\"alert alert-info\">\n",
    "b) Repeat part (a), this time using the leap-frog method. Remember, the leap-frog method requires initial values at points $N(0)$ and $N(\\Delta t)$ - you can use the forward euler method to get the second initial condition:\n",
    "<br><br>\n",
    "$$N(\\Delta t) \\approx N(0)+\\Delta t\\times N'(t)$$\n",
    "</div>"
   ]
  },
  {
   "cell_type": "code",
   "execution_count": 129,
   "metadata": {
    "collapsed": true
   },
   "outputs": [],
   "source": [
    "# use a For loop to find the leap frog error\n",
    "LFerr = []\n",
    "for dt in dtvals:\n",
    "    # insert initial condition calculations here\n",
    "    \n",
    "    # insert leap-frog method here\n",
    "    \n",
    "    error = np.abs( (leapfrogRes - yexact(5)) / yexact(5) )\n",
    "    \n",
    "    LFerr.append(error)"
   ]
  },
  {
   "cell_type": "markdown",
   "metadata": {},
   "source": [
    "<div class=\"alert alert-info\">\n",
    "c) Using the plotting code provided below, plot $\\Delta t$ vs. the error for both the forward Euler and the Leap frog method.\n",
    "</div>"
   ]
  },
  {
   "cell_type": "code",
   "execution_count": null,
   "metadata": {
    "collapsed": false
   },
   "outputs": [],
   "source": [
    "# plot dt vs. forward Euler method on a log-log plot\n",
    "plt.loglog(dt,FEerr, marker='.')\n",
    "\n",
    "# plot dt vs. leap-frog method on a log-log plot\n",
    "plt.loglog(dt,LFerr, marker='.')\n",
    "\n",
    "plt.xlabel('dt')\n",
    "plt.ylabel('Error')\n",
    "plt.grid(alpha=0.3)\n",
    "labels = ['Forward Euler', 'Leap-frog']\n",
    "plt.legend(labels, loc='center left', bbox_to_anchor=(1, 0.5))"
   ]
  },
  {
   "cell_type": "markdown",
   "metadata": {},
   "source": [
    "<div class=\"alert alert-info\">\n",
    "d) What do you notice about the gradients of both plots? How does this relate to the global errors of the Forward Euler and Leap-frog methods?\n",
    "</div>"
   ]
  },
  {
   "cell_type": "code",
   "execution_count": null,
   "metadata": {
    "collapsed": true
   },
   "outputs": [],
   "source": []
  },
  {
   "cell_type": "markdown",
   "metadata": {},
   "source": [
    "---\n",
    "<br>\n",
    "<div class=\"alert alert-block alert-success\">\n",
    "**Note:**\n",
    "Even though we won't go into more detail here, it turns out the leap-frog method is only conditionally stable for **oscillating** ODEs - so, if we were to increase the time beyond 25 seconds in the above atomic decay example, we might have seen instability!\n",
    "</div>"
   ]
  },
  {
   "cell_type": "markdown",
   "metadata": {},
   "source": [
    "# NumPy Shortcuts"
   ]
  },
  {
   "cell_type": "markdown",
   "metadata": {},
   "source": [
    "In this notebook, we have derived from first-principles the method of finite differences, and how we can use it to solve ODEs. This has allowed us to analyse error and stability from a mathematical standpoint.\n",
    "\n",
    "Furthermore, nothing so far has been Python-exclusive - all these techniques can be easily translated to other programming languages, such as C, Fortran, Matlab, Java, and Mathematica.\n",
    "\n",
    "However, NumPy conveniently provides us with a function that automatically applies numerical differentiation techniques, a useful tool when you want to focus on the system to be analysed, and don't want to worry about the finer points of implementing the centered finite difference approximation!\n",
    "\n",
    "This functions is [`numpy.gradient`](https://docs.scipy.org/doc/numpy-1.13.0/reference/generated/numpy.gradient.html), and you can read more about it via its documentation. Of note: `numpy.gradient` uses the central finite difference approximation, which we covered at the very beginning.\n",
    "\n",
    "Let's consider a simple function, and find the derivative using the `numpy.gradient` function.\n",
    "\n",
    "---\n",
    "<div class=\"alert alert-warning\">\n",
    "**Example:**\n",
    "<br>\n",
    "Numerically calculate the derivative of $f(x) = \\sin(x)$, over $0\\leq x\\leq 2\\pi$.\n",
    "</div>"
   ]
  },
  {
   "cell_type": "code",
   "execution_count": 141,
   "metadata": {
    "collapsed": true
   },
   "outputs": [],
   "source": [
    "dx = 0.05\n",
    "x = np.arange(0,2*np.pi+dx,dx)\n",
    "f = np.sin(x)"
   ]
  },
  {
   "cell_type": "code",
   "execution_count": 142,
   "metadata": {
    "collapsed": false
   },
   "outputs": [],
   "source": [
    "df = np.gradient(f,x)"
   ]
  },
  {
   "cell_type": "markdown",
   "metadata": {},
   "source": [
    "Plotting this result, we can verify that NumPy has returned the derivative of our function $f(x)$."
   ]
  },
  {
   "cell_type": "code",
   "execution_count": 143,
   "metadata": {
    "collapsed": false
   },
   "outputs": [
    {
     "data": {
      "text/plain": [
       "<matplotlib.legend.Legend at 0x7f3cfbc16ac8>"
      ]
     },
     "execution_count": 143,
     "metadata": {},
     "output_type": "execute_result"
    },
    {
     "data": {
      "image/png": "[encoded data removed]",
      "text/plain": [
       "<matplotlib.figure.Figure at 0x7f3cfbf890b8>"
      ]
     },
     "metadata": {},
     "output_type": "display_data"
    }
   ],
   "source": [
    "plt.plot(x,f)\n",
    "plt.plot(x,df)\n",
    "\n",
    "plt.xlabel('x')\n",
    "plt.ylabel('y')\n",
    "plt.grid(alpha=0.3)\n",
    "labels = ['$f(x)$', \"$f'(x)$\"]\n",
    "plt.legend(labels, loc='center left', bbox_to_anchor=(1, 0.5))"
   ]
  },
  {
   "cell_type": "code",
   "execution_count": null,
   "metadata": {
    "collapsed": true
   },
   "outputs": [],
   "source": []
  }
 ],
 "metadata": {
  "kernelspec": {
   "display_name": "Python 3",
   "language": "python",
   "name": "python3"
  },
  "language_info": {
   "codemirror_mode": {
    "name": "ipython",
    "version": 3
   },
   "file_extension": ".py",
   "mimetype": "text/x-python",
   "name": "python",
   "nbconvert_exporter": "python",
   "pygments_lexer": "ipython3",
   "version": "3.4.3"
  },
  "toc": {
   "nav_menu": {},
   "number_sections": true,
   "sideBar": true,
   "skip_h1_title": false,
   "toc_cell": false,
   "toc_position": {},
   "toc_section_display": "block",
   "toc_window_display": false
  }
 },
 "nbformat": 4,
 "nbformat_minor": 2
}
