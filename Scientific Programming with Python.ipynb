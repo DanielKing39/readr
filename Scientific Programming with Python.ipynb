{
 "cells": [
  {
   "cell_type": "markdown",
   "metadata": {},
   "source": [
    "<img src=\"images/readr.svg\" alt=\"Logo\" style=\"width: 200px;\"/>\n",
    "![title](images/title.png)"
   ]
  },
  {
   "cell_type": "markdown",
   "metadata": {},
   "source": [
    "Welcome to the pre-reading for the *Introduction to Numerical Computing* course; this Notebook will be give you a taste for how the rest of the course will be structured, and help you get familiar with Python and the Jupyter notebook environment.\n",
    "\n",
    "This notebook is mostly designed for those new to Python; if that's you, have a go working your way through it, and feel free to play around with the code examples. The output cells have deliberately been left blank; you need to manually evaluate Python cells to view the output. Change things, move things around - that's the best way to understand the code you see!\n",
    "\n",
    "**If you're already familiar with Python and NumPy, this notebook is not compulsory**. Feel free to skim it, use it as a quick refresher, or ignore it altogether. "
   ]
  },
  {
   "cell_type": "markdown",
   "metadata": {
    "toc": true
   },
   "source": [
    "<h1>Table of Contents<span class=\"tocSkip\"></span></h1>\n",
    "<div class=\"toc\" style=\"margin-top: 1em;\"><ul class=\"toc-item\"><li><span><a href=\"#Welcome-to-Jupyter\" data-toc-modified-id=\"Welcome-to-Jupyter-1\"><span class=\"toc-item-num\">1&nbsp;&nbsp;</span>Welcome to Jupyter</a></span><ul class=\"toc-item\"><li><span><a href=\"#Markdown-cells\" data-toc-modified-id=\"Markdown-cells-1.1\"><span class=\"toc-item-num\">1.1&nbsp;&nbsp;</span>Markdown cells</a></span></li></ul></li><li><span><a href=\"#Getting-started-with-Python\" data-toc-modified-id=\"Getting-started-with-Python-2\"><span class=\"toc-item-num\">2&nbsp;&nbsp;</span>Getting started with Python</a></span><ul class=\"toc-item\"><li><span><a href=\"#Ground-rules\" data-toc-modified-id=\"Ground-rules-2.1\"><span class=\"toc-item-num\">2.1&nbsp;&nbsp;</span>Ground rules</a></span></li><li><span><a href=\"#Variables\" data-toc-modified-id=\"Variables-2.2\"><span class=\"toc-item-num\">2.2&nbsp;&nbsp;</span>Variables</a></span></li><li><span><a href=\"#Operators\" data-toc-modified-id=\"Operators-2.3\"><span class=\"toc-item-num\">2.3&nbsp;&nbsp;</span>Operators</a></span><ul class=\"toc-item\"><li><span><a href=\"#Arithmetic-operators\" data-toc-modified-id=\"Arithmetic-operators-2.3.1\"><span class=\"toc-item-num\">2.3.1&nbsp;&nbsp;</span>Arithmetic operators</a></span></li><li><span><a href=\"#Assignment-operators\" data-toc-modified-id=\"Assignment-operators-2.3.2\"><span class=\"toc-item-num\">2.3.2&nbsp;&nbsp;</span>Assignment operators</a></span></li><li><span><a href=\"#Relational-operators\" data-toc-modified-id=\"Relational-operators-2.3.3\"><span class=\"toc-item-num\">2.3.3&nbsp;&nbsp;</span>Relational operators</a></span></li><li><span><a href=\"#Membership-operators\" data-toc-modified-id=\"Membership-operators-2.3.4\"><span class=\"toc-item-num\">2.3.4&nbsp;&nbsp;</span>Membership operators</a></span></li><li><span><a href=\"#Identity-operators\" data-toc-modified-id=\"Identity-operators-2.3.5\"><span class=\"toc-item-num\">2.3.5&nbsp;&nbsp;</span>Identity operators</a></span></li><li><span><a href=\"#Logical-operators\" data-toc-modified-id=\"Logical-operators-2.3.6\"><span class=\"toc-item-num\">2.3.6&nbsp;&nbsp;</span>Logical operators</a></span></li></ul></li><li><span><a href=\"#If-statements\" data-toc-modified-id=\"If-statements-2.4\"><span class=\"toc-item-num\">2.4&nbsp;&nbsp;</span>If statements</a></span></li><li><span><a href=\"#Data-structures\" data-toc-modified-id=\"Data-structures-2.5\"><span class=\"toc-item-num\">2.5&nbsp;&nbsp;</span>Data structures</a></span><ul class=\"toc-item\"><li><span><a href=\"#Tuples\" data-toc-modified-id=\"Tuples-2.5.1\"><span class=\"toc-item-num\">2.5.1&nbsp;&nbsp;</span>Tuples</a></span></li><li><span><a href=\"#Lists\" data-toc-modified-id=\"Lists-2.5.2\"><span class=\"toc-item-num\">2.5.2&nbsp;&nbsp;</span>Lists</a></span></li></ul></li><li><span><a href=\"#For-loops\" data-toc-modified-id=\"For-loops-2.6\"><span class=\"toc-item-num\">2.6&nbsp;&nbsp;</span>For loops</a></span></li><li><span><a href=\"#Functions\" data-toc-modified-id=\"Functions-2.7\"><span class=\"toc-item-num\">2.7&nbsp;&nbsp;</span>Functions</a></span></li><li><span><a href=\"#NumPy-Arrays\" data-toc-modified-id=\"NumPy-Arrays-2.8\"><span class=\"toc-item-num\">2.8&nbsp;&nbsp;</span>NumPy Arrays</a></span></li><li><span><a href=\"#Timing-your-code\" data-toc-modified-id=\"Timing-your-code-2.9\"><span class=\"toc-item-num\">2.9&nbsp;&nbsp;</span>Timing your code</a></span></li></ul></li><li><span><a href=\"#Plotting-with-matplotlib\" data-toc-modified-id=\"Plotting-with-matplotlib-3\"><span class=\"toc-item-num\">3&nbsp;&nbsp;</span>Plotting with matplotlib</a></span></li><li><span><a href=\"#Exercises\" data-toc-modified-id=\"Exercises-4\"><span class=\"toc-item-num\">4&nbsp;&nbsp;</span>Exercises</a></span></li></ul></div>"
   ]
  },
  {
   "cell_type": "markdown",
   "metadata": {},
   "source": [
    "# Welcome to Jupyter"
   ]
  },
  {
   "cell_type": "markdown",
   "metadata": {},
   "source": [
    "Welcome to Jupyter, your interactive Python programming environment! In Jupyter, you can mix Python code, markdown text formatting, and math using $\\LaTeX$ like commands. To switch the cell type, simply click in the cell, and use the dropdown menu in the toolbar above to choose what type of cell you would like:\n",
    "![cell](images/cell.png)"
   ]
  },
  {
   "cell_type": "markdown",
   "metadata": {},
   "source": [
    "To get an interactive tour of this Notebook, click `Help` in the menu bar above, and choose `User Interface Tour`:\n",
    "![help](images/help.png)\n",
    "\n",
    "The help menu also includes some useful links to help files for Jupyter notebook, Python, NumPy, and other software libraries."
   ]
  },
  {
   "cell_type": "markdown",
   "metadata": {
    "collapsed": true
   },
   "source": [
    "## Markdown cells\n",
    "These are used to add rich text to your Jupyter notebook.\n",
    "\n",
    "* In markdown mode, you can use \\#, \\##, \\###, and \\#### at the beginning of the line to add **headings**\n",
    "\n",
    "\n",
    "* Anything between asterisk's, \\*like this\\*, will be displayed in *italics*\n",
    "\n",
    "\n",
    "* Anything between two asterisk's, \\*\\*like this\\*\\*, will be displayed in **bold**\n",
    "\n",
    "\n",
    "* And three asterisk's, \\*\\*\\*like this\\*\\*\\*, will be displayed as ***bold AND italics***\n",
    "\n",
    "\n",
    "* Latex equations can be entered between dollar signs: entering \\$\\int_0^x x^2~dx\\$ will give $\\int_0^x x^2~dx$.\n",
    "\n",
    "\n",
    "* Lists are also supported, either using bullet points by starting the line with \\*\n",
    "\n",
    "\n",
    "1. Or using numbered lists, by starting each line with a number and a period (1.)\n",
    "\n",
    "Once you have finished editing your cell, simply press `shift+enter` on your keyboard to evaluate the cell.\n",
    "\n",
    "To edit the markdown cell again, double click on it!\n",
    "\n",
    "Change the cell below to a markdown cell, and have a go entering and evaluating some markdown and math equations."
   ]
  },
  {
   "cell_type": "code",
   "execution_count": null,
   "metadata": {
    "collapsed": true
   },
   "outputs": [],
   "source": []
  },
  {
   "cell_type": "markdown",
   "metadata": {},
   "source": [
    "# Getting started with Python\n",
    "\n",
    "By default, new cells are `code` cells; these are used to write Python code, and are evaluated when you press `shift+enter`. A simply Python program has been written in the cell below, that simply prints 'Hello, world!'. Test it out by evaluating it."
   ]
  },
  {
   "cell_type": "code",
   "execution_count": 2,
   "metadata": {
    "collapsed": false
   },
   "outputs": [
    {
     "name": "stdout",
     "output_type": "stream",
     "text": [
      "\n"
     ]
    }
   ],
   "source": [
    "print('Hello, world!')"
   ]
  },
  {
   "cell_type": "markdown",
   "metadata": {},
   "source": [
    "Pretty simple, right? Here, we are calling the Python `print()` function, which allows us to output strings to the notebook. Don't worry, our Python programs will get more complicated soon! However, before we delve right in , we need to go over a few ground rules of Python.\n",
    "\n",
    "## Ground rules\n",
    "\n",
    "* **Python is case-sensitive**. Try changing the above cell to read:\n",
    "    ```python\n",
    "    Print('Hello, world!')\n",
    "    ```\n",
    "    What happens? The error message occurs because Python doesn't recognise the function `Print()` with a capital letter. Make sure when writing Python code that your case is consistent and correct.\n",
    "    \n",
    "    \n",
    "* **Python uses indents to structure code-block**\n",
    "    What do we mean by this? Well, consider a program that checks if a variable `x` is less than 12; if it is, it sets a variable `y` to `'am'`. Using the programming language C, this program might look like this:\n",
    "    ```c\n",
    "    if (x<12) {\n",
    "        y = \"am\";\n",
    "    }\n",
    "    ```\n",
    "    C knows where the `if` code-block begins and ends from the presence of curly brackets, `{` and `}`. If we wanted, we could write this C code on one line, and it wouldn't make any difference:\n",
    "    ```c\n",
    "    if (x<12) {y = \"am\";}\n",
    "    ```\n",
    "    \n",
    "    However, Python doesn't use curly brackets --- it uses **whitespace** (**tabs** or **spaces**). Instead of braces, Python indicates the start of a code block with a colon :, with the remainder of the code block indented by using either tabs or spaces. The code block ends when the indentation reverts back to the previous indentation. So, in Python, whitespace at the beginning of lines is important and can affect the code. As a result, when copying Python code from this textbook, always make sure to copy the whitespace as-is.\n",
    "    \n",
    "    For example, in Python, the above example would look like this:\n",
    "    ```python\n",
    "    if x < 12:\n",
    "        y = \"am\"\n",
    "    ```\n",
    "    Note the indentation of the line `y = \"am\"`. \n",
    "    \n",
    "    The decision of whether to indent your Python code using spaces or tabs is up to you, and is a matter of style. However, it is important not to mix styles - make sure to keep to solely tabs or spaces, not both.\n",
    "    \n",
    "    *The Python style guide recommends 4 spaces for each indentation level.*\n",
    "    \n",
    "    \n",
    "* **Comments in Python are denoted using \\#**. Anything to the right of a \\# symbol will be ignored by Python. Make sure to use comments to annotate your code, so that you and others can clearly see what is happening!\n",
    "\n",
    "Now that that's out of the way, let's get back to exploring Python hands-on."
   ]
  },
  {
   "cell_type": "markdown",
   "metadata": {},
   "source": [
    "## Variables\n",
    "\n",
    "In Python, we assign variables using the equals sign `=`. \n",
    "\n",
    "You can assign multiple variables at once, all with the same value:"
   ]
  },
  {
   "cell_type": "code",
   "execution_count": 4,
   "metadata": {
    "collapsed": true
   },
   "outputs": [],
   "source": [
    "a = b = c = 2"
   ]
  },
  {
   "cell_type": "markdown",
   "metadata": {},
   "source": [
    "Or assign multiple variables at once, all with different variables:"
   ]
  },
  {
   "cell_type": "code",
   "execution_count": 5,
   "metadata": {
    "collapsed": true
   },
   "outputs": [],
   "source": [
    "a,b,c,d = 1,2.5,True,\"hi\""
   ]
  },
  {
   "cell_type": "markdown",
   "metadata": {},
   "source": [
    "***Example: converting Celsius to Farenheit***\n",
    "\n",
    "Change the value of the variable `DegC` below, and then print the resulting value of `DegF`."
   ]
  },
  {
   "cell_type": "code",
   "execution_count": 7,
   "metadata": {
    "collapsed": false
   },
   "outputs": [],
   "source": [
    "DegC = 28\n",
    "DegF = (9./5.)*DegC + 32."
   ]
  },
  {
   "cell_type": "markdown",
   "metadata": {},
   "source": [
    "Python supports several different types of data types or 'literals':\n",
    "\n",
    "| Type | Description |\n",
    "|:-------:|----------------------------------------------------------------------------------------------------------|\n",
    "|   `int`   | integer, of arbitrary precision                                                                             \n",
    "|  `float`  | a (double precision) real or decimal number, containing 53 bits of precision                                          |\n",
    "| `complex` | a (double precision) complex number, written using the suffix `j` after the imaginary part: `5.432-0.432j` |\n",
    "|   `str`   | string, for example `'abcdef123'` or `\"abcdef123\"`                                                        |\n",
    "|   `bool`  | boolean, which can only take two values; `True` or `False`                                               |\n",
    "\n",
    "If you're ever unsure of the data type of a variable in Python, simply use the function `type()` to find out."
   ]
  },
  {
   "cell_type": "code",
   "execution_count": 8,
   "metadata": {
    "collapsed": false
   },
   "outputs": [
    {
     "name": "stdout",
     "output_type": "stream",
     "text": [
      "<class 'bool'> <class 'str'> <class 'int'> <class 'float'>\n"
     ]
    }
   ],
   "source": [
    "a = True\n",
    "b = \"yes\"\n",
    "c = 18\n",
    "d = 0.654\n",
    "print(type(a), type(b), type(c), type(d))"
   ]
  },
  {
   "cell_type": "markdown",
   "metadata": {},
   "source": [
    "You can convert between data types by using the functions associated with them. For example,"
   ]
  },
  {
   "cell_type": "code",
   "execution_count": 9,
   "metadata": {
    "collapsed": false
   },
   "outputs": [
    {
     "data": {
      "text/plain": [
       "'5'"
      ]
     },
     "execution_count": 9,
     "metadata": {},
     "output_type": "execute_result"
    }
   ],
   "source": [
    "str(5)"
   ]
  },
  {
   "cell_type": "code",
   "execution_count": 10,
   "metadata": {
    "collapsed": false
   },
   "outputs": [
    {
     "data": {
      "text/plain": [
       "6"
      ]
     },
     "execution_count": 10,
     "metadata": {},
     "output_type": "execute_result"
    }
   ],
   "source": [
    "int('6')"
   ]
  },
  {
   "cell_type": "code",
   "execution_count": 11,
   "metadata": {
    "collapsed": false
   },
   "outputs": [
    {
     "data": {
      "text/plain": [
       "(5+2j)"
      ]
     },
     "execution_count": 11,
     "metadata": {},
     "output_type": "execute_result"
    }
   ],
   "source": [
    "complex(5,2)"
   ]
  },
  {
   "cell_type": "code",
   "execution_count": 12,
   "metadata": {
    "collapsed": false
   },
   "outputs": [
    {
     "data": {
      "text/plain": [
       "4.0"
      ]
     },
     "execution_count": 12,
     "metadata": {},
     "output_type": "execute_result"
    }
   ],
   "source": [
    "float(4)"
   ]
  },
  {
   "cell_type": "markdown",
   "metadata": {},
   "source": [
    "## Operators\n",
    "\n",
    "Operators allow you to perform operations on various data types. Python has several main categories; arithmetic, assignment, bitwise, relational, membership, identity, and logical. We'll go through a couple here.\n",
    "\n",
    "### Arithmetic operators\n",
    "In order from highest to lowest precedence:\n",
    "\n",
    "* **Unary operators:** minus (`-`) and plus (`+`). These operators act on a single numeric value. `+` makes no change (`+5=5`) while `-` negates it (`-5=-5`)\n",
    "\n",
    "\n",
    "* **Exponentiation:** `2**5`$=2^5=32$\n",
    "\n",
    "\n",
    "* **Multiplication:** `4*10`=40\n",
    "\n",
    "\n",
    "* **Division:** `4/10`=0.4\n",
    "\n",
    "\n",
    "* **Integer or floor division**: `5//2`=2. This divides two numeric values, and then rounds down to the nearest integer.\n",
    "\n",
    "\n",
    "* **Remainder or Modulo:** `5%2`=1. This returns the remainder after division by an integer.\n",
    "\n",
    "\n",
    "* **Addition**: `5+9`=13\n",
    "\n",
    "\n",
    "* **Subtraction**: `10-8.2`=1.8\n",
    "\n",
    "Remember to always use brackets `(` and `)` so that you can make sure the order of operations is exactly how you intend!"
   ]
  },
  {
   "cell_type": "code",
   "execution_count": 14,
   "metadata": {
    "collapsed": false
   },
   "outputs": [
    {
     "data": {
      "text/plain": [
       "734"
      ]
     },
     "execution_count": 14,
     "metadata": {},
     "output_type": "execute_result"
    }
   ],
   "source": [
    "5+9**3"
   ]
  },
  {
   "cell_type": "code",
   "execution_count": 15,
   "metadata": {
    "collapsed": false
   },
   "outputs": [
    {
     "data": {
      "text/plain": [
       "2744"
      ]
     },
     "execution_count": 15,
     "metadata": {},
     "output_type": "execute_result"
    }
   ],
   "source": [
    "(5+9)**3"
   ]
  },
  {
   "cell_type": "markdown",
   "metadata": {},
   "source": [
    "### Assignment operators\n",
    "\n",
    "We have already seen that `=` assigns a value (on the right hand side) to a variable (on the left hand side). We can combine this with the arithmetic operators to create assignment operators - allowing us to combine arithmetic *and* assignment.\n",
    "\n",
    "For example, `x += 5` is the same as `x = x + 5`, and `x *= 2` is the same as `x = x*2`. Check out the examples below, and play around with it."
   ]
  },
  {
   "cell_type": "code",
   "execution_count": 17,
   "metadata": {
    "collapsed": false
   },
   "outputs": [
    {
     "name": "stdout",
     "output_type": "stream",
     "text": [
      "1.5\n"
     ]
    }
   ],
   "source": [
    "x = 0.5\n",
    "x *= 3\n",
    "print(x)"
   ]
  },
  {
   "cell_type": "code",
   "execution_count": 18,
   "metadata": {
    "collapsed": false
   },
   "outputs": [
    {
     "name": "stdout",
     "output_type": "stream",
     "text": [
      "1.0\n"
     ]
    }
   ],
   "source": [
    "x -= 0.5\n",
    "print(x)"
   ]
  },
  {
   "cell_type": "markdown",
   "metadata": {},
   "source": [
    "### Relational operators\n",
    "\n",
    "These allow us to compare variable values, returning `True` if the condition is satisfied, and `False` otherwise.\n",
    "\n",
    "| Operator | Description |\n",
    "|:-------:|------------------------------|\n",
    "|   `==`  | equal to                     |                                                       \n",
    "|  `!=`   | not equal to                 |\n",
    "| `<`     | less than |\n",
    "|   `>`   | greater than |\n",
    "|   `<=`  | less than or equal to |\n",
    "|   `>=`  | greater than or equal to |"
   ]
  },
  {
   "cell_type": "code",
   "execution_count": 19,
   "metadata": {
    "collapsed": false
   },
   "outputs": [
    {
     "data": {
      "text/plain": [
       "False"
      ]
     },
     "execution_count": 19,
     "metadata": {},
     "output_type": "execute_result"
    }
   ],
   "source": [
    "\"hello\" == \"Hello\""
   ]
  },
  {
   "cell_type": "code",
   "execution_count": 20,
   "metadata": {
    "collapsed": false
   },
   "outputs": [
    {
     "data": {
      "text/plain": [
       "False"
      ]
     },
     "execution_count": 20,
     "metadata": {},
     "output_type": "execute_result"
    }
   ],
   "source": [
    "x = 2\n",
    "3 <= x < 7"
   ]
  },
  {
   "cell_type": "code",
   "execution_count": 21,
   "metadata": {
    "collapsed": false
   },
   "outputs": [
    {
     "data": {
      "text/plain": [
       "True"
      ]
     },
     "execution_count": 21,
     "metadata": {},
     "output_type": "execute_result"
    }
   ],
   "source": [
    "2 >= x < 5"
   ]
  },
  {
   "cell_type": "markdown",
   "metadata": {},
   "source": [
    "### Membership operators\n",
    "\n",
    "These operators allow us to test for membership of certain elements in a sequence.\n",
    "\n",
    "* `in` returns `True` if the element on the left hand side is contained within the operator on the right hand side, and `False` otherwise"
   ]
  },
  {
   "cell_type": "code",
   "execution_count": 22,
   "metadata": {
    "collapsed": false
   },
   "outputs": [
    {
     "data": {
      "text/plain": [
       "True"
      ]
     },
     "execution_count": 22,
     "metadata": {},
     "output_type": "execute_result"
    }
   ],
   "source": [
    "'o' in 'Hello, world!'"
   ]
  },
  {
   "cell_type": "code",
   "execution_count": 23,
   "metadata": {
    "collapsed": false
   },
   "outputs": [
    {
     "data": {
      "text/plain": [
       "True"
      ]
     },
     "execution_count": 23,
     "metadata": {},
     "output_type": "execute_result"
    }
   ],
   "source": [
    "'Hello' in 'Hello, world!'"
   ]
  },
  {
   "cell_type": "code",
   "execution_count": 25,
   "metadata": {
    "collapsed": false
   },
   "outputs": [
    {
     "data": {
      "text/plain": [
       "False"
      ]
     },
     "execution_count": 25,
     "metadata": {},
     "output_type": "execute_result"
    }
   ],
   "source": [
    "'j' in 'Hello, world!'"
   ]
  },
  {
   "cell_type": "markdown",
   "metadata": {},
   "source": [
    "* `not in` provides the *negation* of the `in` operator"
   ]
  },
  {
   "cell_type": "code",
   "execution_count": 24,
   "metadata": {
    "collapsed": false
   },
   "outputs": [
    {
     "data": {
      "text/plain": [
       "True"
      ]
     },
     "execution_count": 24,
     "metadata": {},
     "output_type": "execute_result"
    }
   ],
   "source": [
    "'j' not in 'Hello, World!'"
   ]
  },
  {
   "cell_type": "markdown",
   "metadata": {},
   "source": [
    "### Identity operators\n",
    "\n",
    "* `is` and `not is` are similar to equals `==` and not equals `!=`. However, rather than test to see if two variables have the same **value**, they instead check to see if two variables point to the **same location in memory**. The identity operator is therefore a **stronger test of equality than the equals operators**."
   ]
  },
  {
   "cell_type": "code",
   "execution_count": 31,
   "metadata": {
    "collapsed": false
   },
   "outputs": [],
   "source": [
    "x = 5\n",
    "y = x"
   ]
  },
  {
   "cell_type": "code",
   "execution_count": 32,
   "metadata": {
    "collapsed": false
   },
   "outputs": [
    {
     "data": {
      "text/plain": [
       "True"
      ]
     },
     "execution_count": 32,
     "metadata": {},
     "output_type": "execute_result"
    }
   ],
   "source": [
    "x == y"
   ]
  },
  {
   "cell_type": "code",
   "execution_count": 34,
   "metadata": {
    "collapsed": false
   },
   "outputs": [
    {
     "data": {
      "text/plain": [
       "True"
      ]
     },
     "execution_count": 34,
     "metadata": {},
     "output_type": "execute_result"
    }
   ],
   "source": [
    "x is y"
   ]
  },
  {
   "cell_type": "markdown",
   "metadata": {},
   "source": [
    "The last cell returns `True` because `x` and `y` point to the same location in memory. We can use the `id()` function to double check this:"
   ]
  },
  {
   "cell_type": "code",
   "execution_count": 35,
   "metadata": {
    "collapsed": false
   },
   "outputs": [
    {
     "data": {
      "text/plain": [
       "10055680"
      ]
     },
     "execution_count": 35,
     "metadata": {},
     "output_type": "execute_result"
    }
   ],
   "source": [
    "id(x)"
   ]
  },
  {
   "cell_type": "code",
   "execution_count": 36,
   "metadata": {
    "collapsed": false
   },
   "outputs": [
    {
     "data": {
      "text/plain": [
       "10055680"
      ]
     },
     "execution_count": 36,
     "metadata": {},
     "output_type": "execute_result"
    }
   ],
   "source": [
    "id(y)"
   ]
  },
  {
   "cell_type": "code",
   "execution_count": 37,
   "metadata": {
    "collapsed": false
   },
   "outputs": [
    {
     "data": {
      "text/plain": [
       "True"
      ]
     },
     "execution_count": 37,
     "metadata": {},
     "output_type": "execute_result"
    }
   ],
   "source": [
    "id(x) == id(y)"
   ]
  },
  {
   "cell_type": "markdown",
   "metadata": {},
   "source": [
    "Let's consider another case:"
   ]
  },
  {
   "cell_type": "code",
   "execution_count": 38,
   "metadata": {
    "collapsed": true
   },
   "outputs": [],
   "source": [
    "x = 5\n",
    "y = 5."
   ]
  },
  {
   "cell_type": "code",
   "execution_count": 39,
   "metadata": {
    "collapsed": false
   },
   "outputs": [
    {
     "data": {
      "text/plain": [
       "True"
      ]
     },
     "execution_count": 39,
     "metadata": {},
     "output_type": "execute_result"
    }
   ],
   "source": [
    "x == y"
   ]
  },
  {
   "cell_type": "code",
   "execution_count": 40,
   "metadata": {
    "collapsed": false
   },
   "outputs": [
    {
     "data": {
      "text/plain": [
       "False"
      ]
     },
     "execution_count": 40,
     "metadata": {},
     "output_type": "execute_result"
    }
   ],
   "source": [
    "x is y"
   ]
  },
  {
   "cell_type": "code",
   "execution_count": 41,
   "metadata": {
    "collapsed": false
   },
   "outputs": [
    {
     "data": {
      "text/plain": [
       "10055680"
      ]
     },
     "execution_count": 41,
     "metadata": {},
     "output_type": "execute_result"
    }
   ],
   "source": [
    "id(x)"
   ]
  },
  {
   "cell_type": "code",
   "execution_count": 43,
   "metadata": {
    "collapsed": false
   },
   "outputs": [
    {
     "data": {
      "text/plain": [
       "139960724643656"
      ]
     },
     "execution_count": 43,
     "metadata": {},
     "output_type": "execute_result"
    }
   ],
   "source": [
    "id(y)"
   ]
  },
  {
   "cell_type": "markdown",
   "metadata": {},
   "source": [
    "As `x` and `y` are now different data types (`x` is an `int`, and `y` is a `float`), they are stored in different memory locations. However, their numeric value (5) are equal."
   ]
  },
  {
   "cell_type": "markdown",
   "metadata": {},
   "source": [
    "### Logical operators"
   ]
  },
  {
   "cell_type": "markdown",
   "metadata": {},
   "source": [
    "| Operator | Description |\n",
    "|:--------:|-------------|\n",
    "| `not`    | negates `True` to `False`, and `False` to `True` |\n",
    "| `and`    | `True` if and only if both operands are `True` |\n",
    "| `or`    | `True` if at least one operand is `True` |"
   ]
  },
  {
   "cell_type": "code",
   "execution_count": 47,
   "metadata": {
    "collapsed": false
   },
   "outputs": [
    {
     "data": {
      "text/plain": [
       "True"
      ]
     },
     "execution_count": 47,
     "metadata": {},
     "output_type": "execute_result"
    }
   ],
   "source": [
    "x = 5\n",
    "not (x/2 == 9)"
   ]
  },
  {
   "cell_type": "code",
   "execution_count": 50,
   "metadata": {
    "collapsed": false
   },
   "outputs": [
    {
     "data": {
      "text/plain": [
       "True"
      ]
     },
     "execution_count": 50,
     "metadata": {},
     "output_type": "execute_result"
    }
   ],
   "source": [
    "x < 10 or x%2 == 0"
   ]
  },
  {
   "cell_type": "code",
   "execution_count": 51,
   "metadata": {
    "collapsed": false
   },
   "outputs": [
    {
     "data": {
      "text/plain": [
       "False"
      ]
     },
     "execution_count": 51,
     "metadata": {},
     "output_type": "execute_result"
    }
   ],
   "source": [
    "x < 10 and x%2 == 0"
   ]
  },
  {
   "cell_type": "markdown",
   "metadata": {},
   "source": [
    "## If statements\n",
    "\n",
    "Control statements are an essential component of programming, allowing\n",
    "you to control which section of code is executed based on the state of the\n",
    "program, and how many times certain sections should repeat. There are two\n",
    "main control statements we will cover here; selection (if) and loops (for\n",
    "and while).\n",
    "\n",
    "The if statement enables a choice of code to execute, depending on various\n",
    "logical conditions. It is structured as follows:\n",
    "\n",
    "```python\n",
    "if condition1:\n",
    "    # Python code block\n",
    "elif condition2:\n",
    "    # Python code block\n",
    "else:\n",
    "    # Python code block\n",
    "```\n",
    "In this case, `condition1` and `condition2` correspond to Python expressions\n",
    "that return either `True` or `False`. When the above if statement is encountered,\n",
    "the conditions are evaluated sequentially (i.e. from the top down). When\n",
    "the first condition that evaluates to `True` is found, the corresponding Python\n",
    "code block will be executed. Otherwise, if all of the conditions evaluate to\n",
    "`False`, the `else` code block is executed.\n",
    "\n",
    "Note: in the above, the `elif` and `else` statements are completely optional; the only part required is the initial `if` command.\n",
    "\n",
    "**Example: use an if statement to calculate the smallest of three variables `a`, `b`, and `c`**\n",
    "\n",
    "*Solution:*"
   ]
  },
  {
   "cell_type": "code",
   "execution_count": 52,
   "metadata": {
    "collapsed": true
   },
   "outputs": [],
   "source": [
    "a = 5\n",
    "b = 2.56\n",
    "c = 8.2\n",
    "\n",
    "if a < b and a < c:\n",
    "    result = a\n",
    "elif b < a and b < c:\n",
    "    result = b\n",
    "else:\n",
    "    result = c"
   ]
  },
  {
   "cell_type": "code",
   "execution_count": 53,
   "metadata": {
    "collapsed": false
   },
   "outputs": [
    {
     "name": "stdout",
     "output_type": "stream",
     "text": [
      "2.56\n"
     ]
    }
   ],
   "source": [
    "print(result)"
   ]
  },
  {
   "cell_type": "markdown",
   "metadata": {},
   "source": [
    "We can also nest `if` statements:"
   ]
  },
  {
   "cell_type": "code",
   "execution_count": 54,
   "metadata": {
    "collapsed": false
   },
   "outputs": [
    {
     "name": "stdout",
     "output_type": "stream",
     "text": [
      "x contains a partial hello world!\n"
     ]
    }
   ],
   "source": [
    "x = 'Hello'\n",
    "\n",
    "if x in 'Hello, world!':\n",
    "    if x != 'Hello, world!':\n",
    "        print('x contains a partial hello world!')\n",
    "    else:\n",
    "        print('x is hello world!')\n",
    "else:\n",
    "    print('x is not hello world!')"
   ]
  },
  {
   "cell_type": "markdown",
   "metadata": {},
   "source": [
    "## Data structures\n",
    "So far, we have introduced you to numeric types (`int`, `float`, `complex`),\n",
    "strings (`str`), and logical types (`bool`). However, you've probably noticed\n",
    "hints throughout the previous chapters that this is not all - there are other\n",
    "data types available, known as data structures. These are **sequences** of literals, and include tuples,\n",
    "lists, sets, and dictionaries.\n",
    "\n",
    "In this course, we will use tuples and lists. Sets and dictionaries are also incredibly useful - feel free to read up on them, and use them if you would like."
   ]
  },
  {
   "cell_type": "markdown",
   "metadata": {},
   "source": [
    "### Tuples"
   ]
  },
  {
   "cell_type": "markdown",
   "metadata": {},
   "source": [
    "### Lists"
   ]
  },
  {
   "cell_type": "markdown",
   "metadata": {},
   "source": [
    "## For loops"
   ]
  },
  {
   "cell_type": "markdown",
   "metadata": {},
   "source": [
    "## Functions"
   ]
  },
  {
   "cell_type": "markdown",
   "metadata": {},
   "source": [
    "## NumPy Arrays"
   ]
  },
  {
   "cell_type": "markdown",
   "metadata": {},
   "source": [
    "## Timing your code"
   ]
  },
  {
   "cell_type": "markdown",
   "metadata": {},
   "source": [
    "# Plotting with matplotlib"
   ]
  },
  {
   "cell_type": "markdown",
   "metadata": {},
   "source": [
    "# Exercises"
   ]
  },
  {
   "cell_type": "code",
   "execution_count": null,
   "metadata": {
    "collapsed": true
   },
   "outputs": [],
   "source": []
  }
 ],
 "metadata": {
  "celltoolbar": "Raw Cell Format",
  "kernelspec": {
   "display_name": "Python 3",
   "language": "python",
   "name": "python3"
  },
  "language_info": {
   "codemirror_mode": {
    "name": "ipython",
    "version": 3
   },
   "file_extension": ".py",
   "mimetype": "text/x-python",
   "name": "python",
   "nbconvert_exporter": "python",
   "pygments_lexer": "ipython3",
   "version": "3.4.3"
  },
  "toc": {
   "nav_menu": {},
   "number_sections": true,
   "sideBar": true,
   "skip_h1_title": false,
   "toc_cell": true,
   "toc_position": {},
   "toc_section_display": "block",
   "toc_window_display": false
  }
 },
 "nbformat": 4,
 "nbformat_minor": 2
}
