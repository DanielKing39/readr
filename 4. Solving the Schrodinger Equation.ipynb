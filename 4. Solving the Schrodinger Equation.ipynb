{
 "cells": [
  {
   "cell_type": "markdown",
   "metadata": {},
   "source": [
    "![title](https://i.imgur.com/4MEoMNd.png)\n",
    "![image](http://www.smbc-comics.com/comics/20130120.gif)\n",
    "\n",
    "# Solving the Schrodinger equation\n",
    "\n",
    "Over the previous ~~two~~three notebooks, we have slowly built up the numerical tools we need in order to solve the Schrodinger equation in one dimension (finite-difference methods, root finding, and now integration) as well as undertaking a crash course in all things Python (including functions and arrays).\n",
    "\n",
    "The Schrodinger equation, a linear partial differential equation which describes the time evolution of quantum states, is the corner stone of quantum mechanics. Using the Schrodinger equation as the starting point, we are able to glean information about the bound states, free states, energy levels, and time-evolution of a quantum system. However, whilst analytic solutions to the Schrodinger equation can be found for some systems (for example, the quantum harmonic oscillator), in general it can only be solved numerically. %Thus, being able to find numerical solutions to the Schrodinger equation easily and efficiently is an important skill to have when studying quantum dynamics.\n",
    "\n",
    "In this notebook, we'll ease slowly into the complexities of quantum dynamical systems, by looking at solving the time-independent Schrodinger equation in one dimension."
   ]
  },
  {
   "cell_type": "code",
   "execution_count": 2,
   "metadata": {
    "collapsed": true
   },
   "outputs": [],
   "source": [
    "import numpy as np\n",
    "from matplotlib import pyplot as plt\n",
    "%matplotlib inline"
   ]
  },
  {
   "cell_type": "code",
   "execution_count": 3,
   "metadata": {
    "collapsed": false,
    "hide_input": false
   },
   "outputs": [
    {
     "data": {
      "text/html": [
       "<style>.bs-callout{padding:20px;margin:20px 0;border:1px solid #eee;border-left-width:5px;border-radius:3px}.bs-callout h4{margin-top:0;margin-bottom:5px}.bs-callout p:last-child{margin-bottom:0}.bs-callout code{border-radius:3px}.bs-callout+.bs-callout{margin-top:-5px}.bs-callout-default{border-left-color:#777}.bs-callout-default h4{color:#777}.bs-callout-primary{border-left-color:#428bca; background-color:#e1ecff }.bs-callout-primary h4{color:#428bca}.bs-callout-success{border-left-color:#5cb85c; background-color: #e1ffe5 }.bs-callout-success h4{color:#5cb85c}.bs-callout-danger{border-left-color:#d9534f; background-color: #ffe1e1 }.bs-callout-danger h4{color:#d9534f}.bs-callout-warning{border-left-color:#f0ad4e}.bs-callout-warning h4{color:#f0ad4e}.bs-callout-info{border-left-color:#5bc0de}.bs-callout-info h4{color:#5bc0de}</style>"
      ],
      "text/plain": [
       "<IPython.core.display.HTML object>"
      ]
     },
     "metadata": {},
     "output_type": "display_data"
    }
   ],
   "source": [
    "%%html\n",
    "<style>.bs-callout{padding:20px;margin:20px 0;border:1px solid #eee;border-left-width:5px;border-radius:3px}.bs-callout h4{margin-top:0;margin-bottom:5px}.bs-callout p:last-child{margin-bottom:0}.bs-callout code{border-radius:3px}.bs-callout+.bs-callout{margin-top:-5px}.bs-callout-default{border-left-color:#777}.bs-callout-default h4{color:#777}.bs-callout-primary{border-left-color:#428bca; background-color:#e1ecff }.bs-callout-primary h4{color:#428bca}.bs-callout-success{border-left-color:#5cb85c; background-color: #e1ffe5 }.bs-callout-success h4{color:#5cb85c}.bs-callout-danger{border-left-color:#d9534f; background-color: #ffe1e1 }.bs-callout-danger h4{color:#d9534f}.bs-callout-warning{border-left-color:#f0ad4e}.bs-callout-warning h4{color:#f0ad4e}.bs-callout-info{border-left-color:#5bc0de}.bs-callout-info h4{color:#5bc0de}</style>"
   ]
  },
  {
   "cell_type": "markdown",
   "metadata": {
    "toc": true
   },
   "source": [
    "<h1>Table of Contents<span class=\"tocSkip\"></span></h1>\n",
    "<div class=\"toc\" style=\"margin-top: 1em;\"><ul class=\"toc-item\"><li><span><a href=\"#Solving-the-Schrodinger-equation\" data-toc-modified-id=\"Solving-the-Schrodinger-equation-1\"><span class=\"toc-item-num\">1&nbsp;&nbsp;</span>Solving the Schrodinger equation</a></span></li><li><span><a href=\"#Quick-quantum-refresher\" data-toc-modified-id=\"Quick-quantum-refresher-2\"><span class=\"toc-item-num\">2&nbsp;&nbsp;</span>Quick quantum refresher</a></span><ul class=\"toc-item\"><li><span><a href=\"#The-time-independent-Schrodinger-equation\" data-toc-modified-id=\"The-time-independent-Schrodinger-equation-2.1\"><span class=\"toc-item-num\">2.1&nbsp;&nbsp;</span>The time-independent Schrodinger equation</a></span></li></ul></li><li><span><a href=\"#Boundary-value-problems\" data-toc-modified-id=\"Boundary-value-problems-3\"><span class=\"toc-item-num\">3&nbsp;&nbsp;</span>Boundary value problems</a></span><ul class=\"toc-item\"><li><span><a href=\"#The-Shooting-method\" data-toc-modified-id=\"The-Shooting-method-3.1\"><span class=\"toc-item-num\">3.1&nbsp;&nbsp;</span>The Shooting method</a></span></li><li><span><a href=\"#Linear-Shooting-Method\" data-toc-modified-id=\"Linear-Shooting-Method-3.2\"><span class=\"toc-item-num\">3.2&nbsp;&nbsp;</span>Linear Shooting Method</a></span></li><li><span><a href=\"#Linear-shooting-with-homogeneous-boundaries\" data-toc-modified-id=\"Linear-shooting-with-homogeneous-boundaries-3.3\"><span class=\"toc-item-num\">3.3&nbsp;&nbsp;</span>Linear shooting with homogeneous boundaries</a></span></li></ul></li><li><span><a href=\"#Shooting-the-Schrodinger-equation\" data-toc-modified-id=\"Shooting-the-Schrodinger-equation-4\"><span class=\"toc-item-num\">4&nbsp;&nbsp;</span>Shooting the Schrodinger equation</a></span><ul class=\"toc-item\"><li><span><a href=\"#Discretising-the-Schrodinger-equation\" data-toc-modified-id=\"Discretising-the-Schrodinger-equation-4.1\"><span class=\"toc-item-num\">4.1&nbsp;&nbsp;</span>Discretising the Schrodinger equation</a></span></li><li><span><a href=\"#Discretising-the-initial-conditions\" data-toc-modified-id=\"Discretising-the-initial-conditions-4.2\"><span class=\"toc-item-num\">4.2&nbsp;&nbsp;</span>Discretising the initial conditions</a></span></li><li><span><a href=\"#Normalisation\" data-toc-modified-id=\"Normalisation-4.3\"><span class=\"toc-item-num\">4.3&nbsp;&nbsp;</span>Normalisation</a></span></li></ul></li><li><span><a href=\"#The-Eigenvalue-Problem\" data-toc-modified-id=\"The-Eigenvalue-Problem-5\"><span class=\"toc-item-num\">5&nbsp;&nbsp;</span>The Eigenvalue Problem</a></span><ul class=\"toc-item\"><li><span><a href=\"#The-Morse-potential\" data-toc-modified-id=\"The-Morse-potential-5.1\"><span class=\"toc-item-num\">5.1&nbsp;&nbsp;</span>The Morse potential</a></span></li></ul></li></ul></div>"
   ]
  },
  {
   "cell_type": "markdown",
   "metadata": {
    "collapsed": true
   },
   "source": [
    "# Quick quantum refresher\n",
    "\n",
    "In its most general form, the Schrodinger equation is\n",
    "\n",
    "\\begin{align}\n",
    "\ti\\hbar \\frac{\\partial }{\\partial t}\\psi(x,t) = \\hat{H}\\psi(x,t),\n",
    "\\end{align}\n",
    "\n",
    "where $\\hbar$ is Planck's constant, $\\psi(x,t)$ is the **wavefunction** of the quantum system, and $\\hat{H}$ is the **Hamiltonian**.\n",
    "\n",
    "The Hamiltonian operator represents the total energy of the system, kinetic energy, $\\hat{T}=\\hat{p}/2m^2$, plus potential energy $\\hat{V}=V(x,t)$:\n",
    "\n",
    "\\begin{align}\n",
    "\t\\hat{H} = \\hat{T} +\\hat{V} = \\frac{\\hat{p}^2}{2m} + V(x,t).\n",
    "\\end{align}\n",
    "\n",
    "In position space, the momentum operator is simply $\\hat{p} = -i\\hbar \\frac{\\partial}{\\partial x}$. Putting this all together, get the 1D Schrodinger equation:\n",
    "\n",
    "\\begin{align}\n",
    "\t\\boxed{i\\hbar \\frac{\\partial }{\\partial t}\\psi(x,t) = \\left( -\\frac{\\hbar^2}{2m}\\frac{\\partial^2}{\\partial x^2} + V(x,t) \\right)\\psi(x,t)}\n",
    "\\end{align}\n",
    "\n",
    "Or, using braket notation, $\\left\\langle x \\middle| \\psi(t)\\right\\rangle=\\psi(x,t)$, $$i\\hbar \\frac{\\partial}{\\partial t}|\\psi(t)\\rangle=\\hat{H}|\\psi(t)\\rangle$$\n",
    "\n",
    "## The time-independent Schrodinger equation\n",
    "\n",
    "Let's assume that the potential (and thus Hamiltonian) in our quantum system is time-independent; as a result, the solution to the Schrodinger equation is *separable* in time and space,\n",
    "\n",
    "\\begin{align}\n",
    "\t\\psi(x,t) = \\varphi(x)f(t).\n",
    "\\end{align}\n",
    "\n",
    "Substituting this back into the Schrodinger equation, \n",
    "\n",
    "\\begin{align}\n",
    "\ti\\hbar \\varphi(x)\\frac{df}{dt} = -\\frac{\\hbar^2}{2m}\\frac{d^2 \\varphi}{dx^2}f(t)+V(x)\\varphi(x)f(t),\n",
    "\\end{align}\n",
    "\n",
    "and using separation of variables,\n",
    "\n",
    "\\begin{align}\n",
    "\ti\\hbar \\frac{1}{f(t)}\\frac{df}{dt} = \\left(-\\frac{\\hbar^2}{2m}\\frac{d^2}{dx^2}+V(x)\\right)\\varphi(x) = E.\n",
    "\\end{align}\n",
    "\n",
    "As the left-hand side depends only on $t$, and the right-hand side depends only on $x$, the fact that they are equal means that **they both must have constant value**. Here, we have called this constant $E$.\n",
    "\n",
    "We can use this fact to solve the differential equation for $f(t)$:\n",
    "\n",
    "\\begin{align}\n",
    "\t\\frac{df}{dt} = -\\frac{iE}{\\hbar}f(t) ~~~\\Rightarrow~~~ f(t) \\propto e^{-iEt/\\hbar}.\n",
    "\\end{align}\n",
    "\n",
    "Therefore, the general solution is given by\n",
    "\n",
    "\\begin{align}\n",
    "\t\\psi(x,t) = \\varphi(x)e^{-iEt/\\hbar}.\n",
    "\\end{align}\n",
    "\n",
    "where $\\varphi$ satisfies what we call the **time-independent Schrodingers equation**:\n",
    "\n",
    "\\begin{align}\n",
    "\t\\boxed{\\hat{H}\\varphi(x) = E\\varphi(x)}\n",
    "\\end{align}\n",
    "\n",
    "Or, in braket notation where $\\left\\langle{x}\\middle|{\\varphi}\\right\\rangle=\\varphi(x)$, this is written $\\hat{H}|{\\varphi}\\rangle=E|{\\varphi}\\rangle$\n",
    "\n",
    "The solutions $\\varphi_N(x)$ to this equation provide the **bound states** or **stationary states** of the system, as well as their respective energy levels $E_N$. Note that this is also an **eigenvalue equation**. Since the Hamiltonian $\\hat{H}$ is by definition an Hermitian operator, from linear algebra, we know that:\n",
    "\n",
    "1. The eigenvalues $E_N$ are always **real**\n",
    "\n",
    "2. The eigenvectors $\\varphi_N(x)$ are **linearly independent** and **orthogonal** with respect to the Hilbert space inner product:\n",
    "\n",
    "\n",
    "$$\\left\\langle{\\varphi_i(x)}\\middle|{\\varphi_j(x)}\\right\\rangle = \\int_{-\\infty}^{\\infty} \\varphi_i(x)^*\\varphi_j(x) dx = \\delta_{ij}$$"
   ]
  },
  {
   "cell_type": "markdown",
   "metadata": {
    "collapsed": true
   },
   "source": [
    "# Boundary value problems\n",
    "\n",
    "Back when we first looked at solving differential equations using numerical methods, we were concerned with initial value problems (IVPs) - how a system evolves assuming we know its value and derivative(s) at $x=x_0$:\n",
    "\n",
    "\\begin{align}\n",
    "\ty''(x) = f(y(x),y'(x),x), ~~y(x_0)=a,~~ y'(x_0)=\\alpha.\n",
    "\\end{align}\n",
    "\n",
    "In most cases, initial value problem has a unique solution for a particular set of initial conditions.\n",
    "\n",
    "However, the time-independent Schrodinger equation takes the form of a partial differential wave equation -- instead of dealing with an initial-value problem, we have a **boundary value problem**:\n",
    "\n",
    "\\begin{align}\n",
    "\ty''(x) = f(y(x),y'(x),x), ~~y(x_0)=a,~~ y(x_N)=b.\n",
    "\\end{align}\n",
    "\n",
    "Unlike the initial value problem, the boundary value problem (BVP) doesn't have unique solutions! There will be numerous solutions, each corresponding to a different eigenvalue $\\lambda_i$ of the differential equation. This is why we get multiple stationary wavefunctions and energy levels when solving the time-independent Schrodinger equation."
   ]
  },
  {
   "cell_type": "markdown",
   "metadata": {},
   "source": [
    "## The Shooting method\n",
    "\n",
    "One approach to dealing with boundary value problems is to try and convert them to initial value problems, and then solve them like we did previously. Consider the boundary value problem\n",
    "\n",
    "\\begin{align}\n",
    "\t\\boxed{y''(x) = f(y(x),y'(x),x), ~~y(x_0)=a,~~ y(x_N)=b.}\n",
    "\\end{align}\n",
    "\n",
    "Let $u_\\alpha(x)$ be a solution to the equivalent initial value problem:\n",
    "\n",
    "\\begin{align}\n",
    "\tu_\\alpha''(x) = f(u_\\alpha(x),u_\\alpha'(x),x), ~~u_\\alpha(x_0)=a,~~ u_\\alpha'(x_0)=\\alpha.\n",
    "\\end{align}\n",
    "\n",
    "Consider the difference between the two solutions at the end point of the boundary, $x=x_N$:\n",
    "\n",
    "\\begin{align}\n",
    "\tg(\\alpha) = u_\\alpha(x_N) - y(x_N) = u_\\alpha(x_N) - b.\n",
    "\\end{align}\n",
    "\n",
    "Therefore, in order numerically solve for $y(x)$, we need to numerically solve for $u_\\alpha(x)$ satisfying the following:\n",
    "\n",
    "\\begin{equation}\n",
    "\t\\boxed{\n",
    "\t\\begin{aligned}\n",
    "\t\t& u_\\alpha''(x) = f(u_\\alpha(x),u_\\alpha'(x),x), ~~u_\\alpha(x_0)=a,~~ u_\\alpha'(x_0)=\\alpha,\\\\[7pt]\n",
    "\t\t& g(\\alpha) = u_\\alpha(x_N) - b = 0.\n",
    "\t\\end{aligned}\n",
    "\t}\n",
    "\\end{equation}\n",
    "\n",
    "This is slightly more complicated than just solving an initial value problem! This involves guessing $\\alpha$, solving the differential equation, and then using a **root-finding** algorithm (for example, the bisection method) to determine a better estimate for $\\alpha$. Then repeat the process, until your estimate of $\\alpha$ starts to converge ($|\\alpha_{j+1}-\\alpha_j|\\leq \\epsilon$).\n",
    "\n",
    "<br>\n",
    "<div class=\"alert alert-success\">\n",
    "**Why is it called the shooting method?**\n",
    "<br>\n",
    "Because we treat the boundary value problem as an IVP with unknown initial gradient, and are solving or 'shooting' to find the value at the other boundary. If we miss our mark, we then adjust the initial gradient and shoot again.\n",
    "</div>"
   ]
  },
  {
   "cell_type": "markdown",
   "metadata": {},
   "source": [
    "---\n",
    "<div class=\"alert alert-warning\">\n",
    "**Example: shooting method**\n",
    "<br>\n",
    "Solve the following differential equation via the bisecting shooting method $$y''+5y=5x,~~~y(0)=1, ~~~y(1)=0.$$\n",
    "</div>"
   ]
  },
  {
   "cell_type": "markdown",
   "metadata": {},
   "source": [
    "To solve this via the shooting method, we consider the initial value problem\n",
    "\n",
    "$$u_\\alpha''+5u_\\alpha=-5x,~~~u_\\alpha(0)=1,~~~u_\\alpha'(0)=\\alpha.$$\n",
    "\n",
    "This can be solved numerically using the method of finite-differences to approximate the second derivative, and rearranging to get an iterative solution,\n",
    "\n",
    "$$ \\frac{u_{n+1}-2u_{n}+u_{n-1}}{\\Delta x^2} +5u_{n}\\approx -5x_n ~~~\\Rightarrow~~~ u_{n+1} \\approx -5u_{n}\\Delta x^2 - 5x_n\\Delta x^2 + 2u_n -u_{n-1}$$\n",
    "\n",
    "where $u_n$ is implicitly a function of $\\alpha$, and corresponds to $u_\\alpha(x_n)$."
   ]
  },
  {
   "cell_type": "code",
   "execution_count": 3,
   "metadata": {
    "collapsed": true
   },
   "outputs": [],
   "source": [
    "dx = 0.01\n",
    "N = int((1-0)/dx + 1)\n",
    "x = np.arange(0,1+dx,dx)\n",
    "\n",
    "def soln(alpha):\n",
    "    u = np.zeros(x.shape)\n",
    "\n",
    "    u[0] = 1\n",
    "    u[1] = alpha*dx + 1\n",
    "\n",
    "    for i in range(2,N):\n",
    "        u[i] = -5*(dx**2)*u[i-1] - 5*(dx**2)*x[i-1] + 2*u[i-1] - u[i-2] \n",
    "        \n",
    "    return u"
   ]
  },
  {
   "cell_type": "markdown",
   "metadata": {},
   "source": [
    "For our first two estimates of $\\alpha$, let's choose $\\alpha_1=1$ and $\\alpha_2=5$."
   ]
  },
  {
   "cell_type": "code",
   "execution_count": 4,
   "metadata": {
    "collapsed": false
   },
   "outputs": [
    {
     "data": {
      "image/png": "[encoded data removed]",
      "text/plain": [
       "<matplotlib.figure.Figure at 0x7f61e0312898>"
      ]
     },
     "metadata": {},
     "output_type": "display_data"
    }
   ],
   "source": [
    "plt.plot(x, soln(1))\n",
    "plt.plot(x, soln(5))\n",
    "plt.plot(x,np.zeros(x.shape), color='black')\n",
    "plt.legend([r'$\\alpha={}$'.format(i) for i in [1,5]])\n",
    "plt.grid()"
   ]
  },
  {
   "cell_type": "markdown",
   "metadata": {},
   "source": [
    "Looking at the boundaries, we have $u_{\\alpha_1}(1)<0$ and $u_{\\alpha_2}(1)>0$. Thus, the correct value of $\\alpha$ must like somewhere *in-between* these two starting guesses for the right hand boundary condition to be satisfied.\n",
    "\n",
    "So for the third estimate of $\\alpha$, let's bisect this interval:\n",
    "\n",
    "$$\\alpha_3 = \\frac{1}{2}(1+5) = 3.$$\n",
    "\n",
    "Now, we have $u_{\\alpha_3}(1)<0$ -- so the next estimate must lie in the interval $\\alpha\\in(3,4)$. Bisecting this interval, \n",
    "\n",
    "$$\\alpha_4=\\frac{1}{2}(3+4) = 3.5.$$\n"
   ]
  },
  {
   "cell_type": "code",
   "execution_count": 5,
   "metadata": {
    "collapsed": false
   },
   "outputs": [
    {
     "data": {
      "image/png": "[encoded data removed]",
      "text/plain": [
       "<matplotlib.figure.Figure at 0x7f61de267908>"
      ]
     },
     "metadata": {},
     "output_type": "display_data"
    }
   ],
   "source": [
    "plt.plot(x, soln(1))\n",
    "plt.plot(x, soln(5))\n",
    "plt.plot(x, soln(3))\n",
    "plt.plot(x, soln(4))\n",
    "plt.plot(x, soln(3.5))\n",
    "plt.plot(x,np.zeros(x.shape), color='black')\n",
    "plt.legend([r'$\\alpha={}$'.format(i) for i in [1,5,3,4,3.5]])\n",
    "plt.grid()"
   ]
  },
  {
   "cell_type": "markdown",
   "metadata": {
    "collapsed": true
   },
   "source": [
    "We continue bisecting until $\\alpha$ converges to a value. In this case, $\\alpha=3.59655$, and thus $u_{3.59655}(x)$ is the solution to the boundary value problem:"
   ]
  },
  {
   "cell_type": "code",
   "execution_count": 6,
   "metadata": {
    "collapsed": false
   },
   "outputs": [
    {
     "data": {
      "image/png": "[encoded data removed]",
      "text/plain": [
       "<matplotlib.figure.Figure at 0x7f61de20f2b0>"
      ]
     },
     "metadata": {},
     "output_type": "display_data"
    }
   ],
   "source": [
    "plt.plot(x,soln(3.59655))\n",
    "plt.grid()"
   ]
  },
  {
   "cell_type": "markdown",
   "metadata": {},
   "source": [
    "---\n",
    "## Linear Shooting Method\n",
    "\n",
    "Linear boundary value problems are such that $f(y(x),y'(x),x)$ is a *linear* function -- that is, we are able to write the differential equation in the following form:\n",
    "\n",
    "\\begin{align}\n",
    "\ty''(x) + P(x)y'(x)+Q(x)y(x)=R(x)\n",
    "\\end{align}\n",
    "\n",
    "and they satisfy linearity - if $u(x)$ and $v(x)$ is a solution to the ODE, than so is $w(x)=c_1 u(x)+c_2 v(x)$.\n",
    "\n",
    "Note that the time-independent Schrodinger equation is a linear partial differential equation; writing it in this form it becomes\n",
    "\n",
    "\\begin{align}\n",
    "\t\\psi''(x) + \\frac{2m}{\\hbar^2}\\left[ E-V(x)  \\right]\\psi(x) = 0.\n",
    "\\end{align}\n",
    "\n",
    "So, can we use the linearity of these systems to improve on the previous section, where the conversion of a BVP to a IVP resulted in having to guess the initial value $\\alpha$?\n",
    "\n",
    "Turns out we can! Walk with me here.\n",
    "\n",
    "<div class=\"bs-callout bs-callout-danger\">\n",
    "Consider the linear boundary value problem \n",
    "<br><br>\n",
    "\\begin{align}\n",
    "\ty''(x) + P(x)y'(x)+Q(x)y(x) = R(x), ~~y(x_0)=a,~~ y(x_N)=b,\n",
    "\\end{align}\n",
    "<br><br>\n",
    "as well as the following two initial value problems,\n",
    "<br><br>\n",
    "\\begin{align*}\n",
    "\t& u''(x) + P(x)u'(x)+Q(x)u(x) = R(x), &~~u(x_0)=a,~~ u'(x_0)=0\\\\\n",
    "\t& v''(x) + P(x)v'(x)+Q(x)v(x)=0, &~~v(x_0)=0,~~ v'(x_0)=s\n",
    "\\end{align*}\n",
    "<br><br>\n",
    "where the ODE satisfied by $v(x)$ is **homogeneous** ($R(x)=0$), and $s$ is an arbitrary constant known as the **free shooting parameter**.\n",
    "<br><br>\n",
    "Now, let $w(x) = u(x)+\\theta v(x)$. Due to linearity, $w(x)$ satisfies both initial value problems, with \n",
    "<br><br>\n",
    "\\begin{align}\n",
    "\t& w(x_0) = u(x_0) + \\theta v(x_0) = a\\\\\n",
    "\t& w'(x_0) = u'(x_0) + \\theta v'(x_0) = \\theta s.\n",
    "\\end{align}\n",
    "<br><br>\n",
    "Furthermore, if $w(x_N) = u(x_N) + \\theta v(x_N) = b$, then $w(x)$ also satisfies the boundary value problem! Let's solve for the value of $\\theta$ where this boundary condition is met:\n",
    "<br><br>\n",
    "\\begin{align}\n",
    "\t\\theta = \\frac{b-u(x_N)}{v(x_N)}.\n",
    "\\end{align}\n",
    "<br><br>\n",
    "Therefore, the solution to the linear boundary value problem is\n",
    "<br><br>\n",
    "\\begin{align}\n",
    "\ty(x) = u(x) + \\frac{b-u(x_N)}{v(x_N)}v(x).\n",
    "\\end{align}\n",
    "</div>\n",
    "\n",
    "This already looks like a better algorithm -- simply solve two initial value problems (rather than one) with specified (rather than free) initial conditions, and a linear superposition provides the solution to the boundary value problem. No more having to iterate/bisect the initial conditions until convergence!\n",
    "\n",
    "However, there is a small caveat (have you spotted it?).\n",
    "\n",
    "In order for the correct value of $\\theta$ to be found, we must have $v(x_N)\\neq 0$. From Sturm-Liouville theory, this is only guaranteed when $Q(x)\\leq 0$ for $x\\in[x_0,x_N]$, or in the case of the time-independent Schrodinger equation, when $E\\leq V(x)$. If this condition is not met, than it is possible (but not *certain*) that no solution to the boundary value problem exists.\n",
    "\n",
    "<div class=\"bs-callout bs-callout-success\">\n",
    "<h4>In summary</h4>\n",
    "<br>\n",
    "To use the linear shooting method to solve the boundary value problem <br><br>\n",
    "$$y''(x)=P(x)y'(x)+Q(x)y(x)=R(x),~~~y(x_0)=a,~~~y(x_N)=b,$$\n",
    "<ol>\n",
    "<li> Solve the initial value problems\n",
    "<br>\n",
    "\\begin{align*}\n",
    "    & u''(x) + P(x)u'(x)+Q(x)u(x) = R(x), &~~u(x_0)=a,~~ u'(x_0)=0\\\\\n",
    "\t& v''(x) + P(x)v'(x)+Q(x)v(x)=0, &~~v(x_0)=0,~~ v'(x_0)=s\n",
    "\\end{align*}\n",
    "<br>\n",
    "for any value of $s\\neq 0$, using a numerical method (Euler/leap-frog etc) of your choice. </li>\n",
    "<br><br>\n",
    "<li>If $v(x_N)\\neq 0$, then the solution to the boundary value problem is \n",
    "<br>\n",
    "\\begin{align*}\n",
    "    y(x) = u(x) + \\frac{b-u(x_N)}{v(x_N)}v(x).\n",
    "\\end{align*}\n",
    "<br>\n",
    "Otherwise, no solutions to the boundary value problem may exist.</li>\n",
    "</ol>\n",
    "</div>\n"
   ]
  },
  {
   "cell_type": "markdown",
   "metadata": {
    "collapsed": true
   },
   "source": [
    "## Linear shooting with homogeneous boundaries\n",
    "\n",
    "What happens if a system has a linear *and* homogeneous ODE, and left boundary value of zero? For example, consider the boundary value problem\n",
    "\n",
    "\\begin{align}\n",
    "\ty''(x) + P(x)y'(x)+Q(x)y(x) = 0, ~~y(x_0)=0,~~ y(x_N)=b.\n",
    "\\end{align}\n",
    "\n",
    "This problem is both homogeneous ($R(x)=0$), linear, and the left boundary has value $y(x_0)=0$.\n",
    "\n",
    "Let's proceed as we did above, and see what happens.\n",
    "\n",
    "---\n",
    "\n",
    "Define the two initial value problems\n",
    "\n",
    "\\begin{align*}\n",
    "\t& u''(x) + P(x)u'(x)+Q(x)u(x)=0, &~~u(x_0)=0,~~ u'(x_0)=0,\\\\\n",
    "\t& v''(x) + P(x)v'(x)+Q(x)v(x)=0, &~~v(x_0)=0,~~ v'(x_0)=s,\n",
    "\\end{align*}\n",
    "\n",
    "where $s\\neq 0$ is the free shooting parameter.\n",
    "\n",
    "Unlike previously, the differential equation for $u(x)$ now is *also* homogeneous, with homogeneous initial conditions. Since the trivial solution $u(x)=0$ satisfies both the ODE and the initial conditions, from the uniqueness theorem we can deduce that $u(x)=0$ is the *only solution*.\n",
    "\n",
    "Therefore, the solution to the boundary value problem becomes\n",
    "\n",
    "\\begin{align}\n",
    "    y(x) = u(x) + \\frac{b-u(x_N)}{v(x_N)}v(x)  = \\frac{b}{v(x_N)}v(x).\n",
    "\\end{align}\n",
    "\n",
    "The solution $y(x)$ is simply a constant rescaling of $v(x)$, the equivalent initial value problem!\n",
    "\n",
    "And not only that, it doesn't even matter what we choose $v'(x_0)=s$ to be, as the free shooting parameter $s$ doesn't feature in the above equation.\n",
    "\n",
    "How nice.\n",
    "\n",
    "\n",
    "<div class=\"bs-callout bs-callout-success\">\n",
    "<h4>In summary</h4>\n",
    "<br>\n",
    "To use the linear shooting method to solve the **homogeneous** boundary value problem <br><br>\n",
    "\\begin{align*}\n",
    "    & y''(x) + P(x)y'(x)+Q(x)y(x) = 0, &~~y(x_0)=0,~~ y(x_N)=b,\n",
    "\\end{align*}\n",
    "<ol>\n",
    "<li> Solve the initial value problem\n",
    "<br>\n",
    "\\begin{align*}\n",
    "\t\t& v''(x) + P(x)v'(x)+Q(x)v(x)=0, &~~v(x_0)=0,~~ v'(x_0)=s\n",
    "\\end{align*}\n",
    "<br>\n",
    "for any value of $s\\neq 0$, using a numerical method (Euler/leap-frog etc) of your choice. </li>\n",
    "<br><br>\n",
    "<li>If $v(x_N)\\neq 0$, then the solution to the boundary value problem is \n",
    "<br>\n",
    "\\begin{align*}\n",
    "    y(x) = \\frac{b}{v(x_N)}v(x).\n",
    "\\end{align*}\n",
    "<br>\n",
    "Otherwise, no solutions to the boundary value problem may exist.</li>\n",
    "</ol>\n",
    "</div>"
   ]
  },
  {
   "cell_type": "markdown",
   "metadata": {},
   "source": [
    "<div class=\"alert alert-info\">\n",
    "**Problem 1**:\n",
    "<br>\n",
    "Use the linear shooting method to solve the boundary value problem $y''(x)+\\tan(x) y(x)=0$ with $y(-1) = 0$, and $y(1)=0.5$.\n",
    "</div>"
   ]
  },
  {
   "cell_type": "code",
   "execution_count": null,
   "metadata": {
    "collapsed": false
   },
   "outputs": [],
   "source": []
  },
  {
   "cell_type": "markdown",
   "metadata": {},
   "source": [
    "# Shooting the Schrodinger equation\n",
    "\n",
    "Let's now go back to the time-independent Schrodinger equation, and try and apply the shooting method to find solutions. \n",
    "\n",
    "Recall the the time-independent Schrodinger equation is \n",
    "\n",
    "\\begin{align}\n",
    "    -\\frac{\\hbar^2}{2m}\\psi''(x) + V(x)\\psi(x)=E\\psi(x).\n",
    "\\end{align}\n",
    "\n",
    "In cases where $V(x)\\rightarrow\\infty$ as $x\\rightarrow\\pm\\infty$, a reasonable boundary condition to impose is\n",
    "\n",
    "\\begin{align}\n",
    "\t\\psi(x)\\rightarrow 0 ~~\\text{as}~~ x\\rightarrow\\pm \\infty.\n",
    "\\end{align}\n",
    "\n",
    "\n",
    "<div class=\"bs-callout bs-callout-success\">\n",
    "<h4>Why must the wavefunction decay when $V > E$?</h4>\n",
    "\n",
    "Write the Schrodinger equation in the form $\\psi''(x) + \\lambda^2\\psi(x) = 0, ~~~\\lambda^2\\sim\\left[ E-V(x)  \\right]$ for $x\\rightarrow\\pm\\infty$.\n",
    "<br><br>\n",
    "In this region, $V(x)>E~~ \\Rightarrow ~~\\lambda\\leq 0$ and so the solution is $$\\psi(x)\\sim A e^{-\\lambda x}+B e^{\\lambda x}.$$\n",
    "<br>\n",
    "The Hilbert space requires $\\psi(x)$ be **square integrable** -- it cannot 'blow up' to infinity. So, as $x\\rightarrow\\pm\\infty$, $V(x)> E$, and $\\psi(x)\\sim e^{-\\lambda |x|}\\rightarrow 0$.\n",
    "</div>\n",
    "\n",
    "Although, you might argue that boundary conditions at infinite $x$ values aren't *really* that reasonable when we're trying to solve the system numerically. Okay, I hear you. Let's try and approximate some finite boundary conditions.\n",
    "\n",
    "Assuming $V(x)$ is centered on the origin, let's work on the finite domain $-a\\leq x\\leq a$, with $a$ chosen such that $V(\\pm a)$ is sufficiently large to ensure that $\\psi(\\pm a)\\approx 0$. In this case, we have the finite boundary conditions\n",
    "\n",
    "\\begin{align}\n",
    "\t\\psi(-a)\\approx 0, ~~~\\psi(a)\\approx 0.\n",
    "\\end{align}\n",
    "\n",
    "Since the boundary value problem is linear, homogeneous, and the left boundary value is $0$, we know from the previous section that (up to a constant rescaling factor) this is equivalent to solving the initial value problem\n",
    "\n",
    "\\begin{align}\n",
    "\t& -\\frac{\\hbar^2}{2m}\\psi''(x) + V(x)\\psi(x) = E\\psi(x), ~~ \\psi(-a) = 0, ~~~\\psi'(-a) = s,\n",
    "\\end{align}\n",
    "\n",
    "where $s$ is a free shooting parameter and can take any non-zero real value."
   ]
  },
  {
   "cell_type": "markdown",
   "metadata": {},
   "source": [
    "## Discretising the Schrodinger equation\n",
    "\n",
    "Let's discretise the $x$ grid between $x\\in[x_0,x_{N-1}]$ using $N$ points,\n",
    "\n",
    "\\begin{align}\n",
    "\tx_{j+1} = x_j + \\Delta x ~~\\text{where}~~ \\Delta x = \\frac{x_{N-1}-x_0}{N-1}.\n",
    "\\end{align}\n",
    "\n",
    "\n",
    "Using the **second derivative central difference formula** method to approximate the double derivative,\n",
    "\n",
    "\\begin{align}\n",
    "\tf''(x) = \\frac{f(x+\\Delta x)-2f(x)+f(x-\\Delta x)}{(\\Delta x)^2} + O(\\Delta x^2),\n",
    "\\end{align}\n",
    "\n",
    "and denoting $\\psi_j = \\psi(x_j)$ and $V_j=V(x_j)$, we get at a discretised time-dependent Schr\"odinger equation, accurate to second order:\n",
    "\n",
    "\\begin{align}\n",
    "\t-\\frac{\\hbar^2}{2m}\\frac{\\psi_{j+1}-2\\psi_j+\\psi_{j-1}}{\\Delta x^2} + V(x)\\psi_j +\\mathcal{O}((\\Delta x)^2) = E\\psi_j.\n",
    "\\end{align}\n",
    "\n",
    "Rearranging this into a more iterative form,\n",
    "\n",
    "\\begin{align}\n",
    "\t\\boxed{\\psi_{j+1} = 2\\left[\\frac{m(\\Delta x)^2}{\\hbar^2}(V_j-E)+1\\right]\\psi_j-\\psi_{j-1}, ~~~~j=1,2,\\dots,N-2}\n",
    "\\end{align}"
   ]
  },
  {
   "cell_type": "markdown",
   "metadata": {},
   "source": [
    "## Discretising the initial conditions\n",
    "\n",
    "Let's set the endpoints of our discretised grid to $x_0=-a$ and $x_{N-1}=a$, ensuring the boundary conditions $\\psi_0\\approx 0$, and $\\psi_{N-1}\\approx 0$. From the forward Euler approximation to the derivative,\n",
    "\n",
    "\\begin{align}\n",
    "\t\\psi'(x_0) \\approx \\frac{\\psi(x_0+\\Delta x)-\\psi(x_0)}{\\Delta x} = \\frac{\\psi_1-\\psi_0}{\\Delta x},\n",
    "\\end{align}\n",
    "\n",
    "thus the initial condition $\\psi'(x_0)$ provides us with the value of $\\psi_1$,\n",
    "\n",
    "\\begin{align}\n",
    "\\psi_1 = \\psi'(x_0)\\Delta x+\\psi_0.\n",
    "\\end{align}\n",
    "\n",
    "Therefore, we can convert the time-independent Schordinger equation into a discretised *initial value problem*,\n",
    "\n",
    "\\begin{equation}\n",
    "\t\\boxed{\n",
    "\t\\begin{aligned}\n",
    "\t&\\psi_{j+1} = 2\\left[\\frac{m(\\Delta x)^2}{\\hbar^2}(V_j-E)+1\\right]\\psi_j-\\psi_{j-1}, ~~~~j=1,2,\\dots\\\\\n",
    "\t&\\psi_0 = 0, ~~~ \\psi_1 = s\n",
    "\t\\end{aligned}\n",
    "\t}\n",
    "\\end{equation}\n",
    "\n",
    "where $s\\neq 0$ is the free shooting parameter."
   ]
  },
  {
   "cell_type": "markdown",
   "metadata": {},
   "source": [
    "<div class=\"alert alert-info\">\n",
    "**Problem 2**:\n",
    "<br>\n",
    "Use the shooting method to solve for the seventh excited state of the quantum harmonic oscillator.\n",
    "<br><br>\n",
    "The quantum harmonic oscillator has potential given by $V(x)=\\frac{1}{2}m_e\\omega^2 x^2$, and the $n$th state wavefunction has energy $E=\\left(n+\\frac{1}{2}\\right)\\hbar\\omega$.\n",
    "<br><br>\n",
    "Solve this problem using the following parameters, $$\\Delta x =0.01,~~~~x_0 = -5,~~~~x_{N-1}=5$$ assuming **atomic units**, $$\\hbar=\\omega=m_e=1$$ and the initial conditions $$\\psi_0=0, ~~~~\\psi_1=10^{-3}$$\n",
    "When done, plot $|\\psi(x)|^2$ and $V(x)$ on the same plot.\n",
    "</div>"
   ]
  },
  {
   "cell_type": "code",
   "execution_count": null,
   "metadata": {
    "collapsed": true
   },
   "outputs": [],
   "source": []
  },
  {
   "cell_type": "markdown",
   "metadata": {},
   "source": [
    "<div class=\"bs-callout bs-callout-success\">\n",
    "<h4>Symmetric potentials</h4>\n",
    "<br>\n",
    "If $n$ is even, then the wavefunction will be **even**: $\\psi(-x)=\\psi(x)$.\n",
    "<br><br>\n",
    "If $n$ is odd, then the wavefunction will be **odd**: $\\psi(-x)=-\\psi(x)$.\n",
    "<br><br>\n",
    "So if we choose the second initial condition such that $s\\sim(-1)^n10^{-5}$, then we will always approach the right boundary **from above**: $$\\psi_{N-2}>\\psi_{N-1}=0$$\n",
    "</div>"
   ]
  },
  {
   "cell_type": "markdown",
   "metadata": {},
   "source": [
    "## Normalisation\n",
    "\n",
    "Assuming we know the energy $E$ of the state we wish to find, we now have all we need to implement the shooting method! All that's left to do is to rescale the solution of the initial value problem so that the right hand boundary condition, $\\psi_{N-1}\\approx 0$, is met.\n",
    "\n",
    "'But wait!' I hear you cry out.\n",
    "\n",
    "'Isn't there already a scaling condition on wavefunctions? Uh, hello, **normalisation**?'\n",
    "\n",
    "That's correct, of course. And it turns out the normalisation rescaling is all we need to ensure the initial value solution satisfies \n",
    "\n",
    "1. the time-independent Schrodinger equation, and\n",
    "2. the boundary conditions, and (c) the normalisation condition. \n",
    "\n",
    "Hooray!\n",
    "\n",
    "Since the wavefunction $\\psi(x)$ represents a probability amplitude, we require it to be normalised:\n",
    "\n",
    "\\begin{align}\n",
    "\t\\left\\langle{\\psi}\\middle|{\\psi}\\right\\rangle = \\int_{-\\infty}^{\\infty} \\left|\\psi(x)\\right|^2 dx = 1.\n",
    "\\end{align}\n",
    "\n",
    "As we are working with a discretised wavefunction $\\psi_j$, to perform this integration we must use one of the a method of numerical integration. A good choice for the numerical integration is Simpson's rule, providing a good balance between accuracy and efficiency.\n",
    "\n",
    "Of course, it is very unlikely that your solution to the IVP will be normalised; instead you'll get\n",
    "\n",
    "\\begin{align}\n",
    "\t\\int_{-\\infty}^{\\infty} \\left|\\psi(x)\\right|^2 dx = A.\n",
    "\\end{align}\n",
    "\n",
    "Thus, to normalise the wavefunction, it needs to be multiplied by the constant factor $1/\\sqrt{A}$."
   ]
  },
  {
   "cell_type": "markdown",
   "metadata": {},
   "source": [
    "---\n",
    "\n",
    "<div class=\"alert alert-info\">\n",
    "**Problem 3**:\n",
    "<br>\n",
    "Use your code from the Simpson's method from the previous notebook, to *normalise* the solution to Problem 2 above.\n",
    "</div>"
   ]
  },
  {
   "cell_type": "code",
   "execution_count": null,
   "metadata": {
    "collapsed": false
   },
   "outputs": [],
   "source": []
  },
  {
   "cell_type": "markdown",
   "metadata": {
    "collapsed": true
   },
   "source": [
    "\n",
    "<div class=\"bs-callout bs-callout-success\">\n",
    "<h4>Note</h4>\n",
    "Always take into account the symmetry/behaviour of the potential $V(x)$ to ensure your finite boundary conditions are good approximations!\n",
    "<br><br>\n",
    "![image](https://i.imgur.com/ihvWimD.png)\n",
    "<br><br>\n",
    "For example, the figure above shows a quantum harmonic potential with the first 5 states. To solve for these states $E\\leq 9/2$, a good choice of domain is $-5\\leq x\\leq 5$, with $\\psi(-5)\\approx 0$ and $\\psi(5)\\approx 0$.\n",
    "</div>"
   ]
  },
  {
   "cell_type": "markdown",
   "metadata": {
    "collapsed": true
   },
   "source": [
    "# The Eigenvalue Problem\n",
    "\n",
    "So far, we've assumed we know the energy or eigenvalue $E$ of the state we wish to solve the time independent Schrodinger equation for. But unless you're getting inside information from experimentalists, this is not usually the case. To work out the allowed energy values $E$, you have to be able to solve the Schrodinger equation in the first place!\n",
    "\n",
    "Of course, if you're feeling lucky, you could always try and guess $E$. But you'd have to be feeling *exceptionally* lucky - the possible outcomes are\n",
    "\n",
    "1. You guess the correct eigenvalue $E$ for the eigenstate you wish to find,\n",
    "2. You guess *a* correct eigenvalue $E$, but it provides the solution for a different state,\n",
    "3. You guess a value of $E$ that isn't an eigenvalue -- no solution satisfying the boundary conditions can be found.\n",
    "\n",
    "Unless the discrete energy levels turn out to be *incredibly* dense, outcome (3) is probably the likeliest.\n",
    "\n",
    "So how can we solve for both the eigenstates and the eigenvalues? One way is to treat $E$ as a parameter in the initial value problem:\n",
    "\n",
    "\\begin{equation}\n",
    "\t\\boxed{\n",
    "\t\\begin{aligned}\n",
    "\t&\\psi^{(E)}_{j+1} = 2\\left[\\frac{m(\\Delta x)^2}{\\hbar^2}(V_j-E)+1\\right]\\psi^{(E)}_j-\\psi^{(E)}_{j-1}, ~~j=1,2,\\dots\\\\\n",
    "\t&\\psi^{(E)}_0 = 0, ~~~ \\psi^{(E)}_1 = s\n",
    "\t\\end{aligned}\n",
    "\t}\n",
    "\\end{equation}\n",
    "\n",
    "Since solutions satisfying the boundary condition $\\psi_{N-1}^{(E)}\\approx 0$ only exists when $E$ is an eigenvalue, we can begin by guessing the eigenvalue $E^{(0)}$, shoot to the right-hand boundary, then use a root-finding algorithm to generate a better approximation for the eigenvalue, $E^{(1)}$. This process is then repeated until $E$ has converged."
   ]
  },
  {
   "cell_type": "markdown",
   "metadata": {},
   "source": [
    "One root finding method we can use is the bisection method. In this method, we 'bracket' the correct eigenvalue, continually bisecting the upper and lower estimates until we converge onto the correct eigenvalue.\n",
    "\n",
    "<div class=\"bs-callout bs-callout-info\">\n",
    "<h4>Schrodinger Shooting Algorithm with unknown eigenvalues</h4>\n",
    "To numerically solve for the $n$th eigenstate and the eigenvalue of the time dependent Schrodinger equation:\n",
    "<ol>\n",
    "\t<li>Estimate lower ($E_{min}$) and upper ($E_{max}$) bounds for the energy</li><br>\n",
    "\t<li>Bisect the energy range to determine an estimate for the energy $$E=\\frac{1}{2}(E_{min}+E_{max})$$</li><br>\n",
    "\t<li>Shoot from the left boundary to the right boundary by choosing $s\\sim (-1)^n 10^{-5}$ and solving the initial value problem\n",
    "\t\\begin{align*}\n",
    "\t\t& \\psi^{(E)}_{j+1} = 2\\left[\\frac{m(\\Delta x)^2}{\\hbar^2}(V_j-E)+1\\right]\\psi^{(E)}_j-\\psi^{(E)}_{j-1},~~ \\psi^{(E)}_0 = 0, ~~ \\psi^{(E)}_1 = s\n",
    "\t\\end{align*}</li><br>\n",
    "\t<li> Count the number of nodes $n'$ in the solution $\\psi^{(E)}$\n",
    "\t\t<ol>\n",
    "\t\t\t<li>If $n'<n$, then set $E_{min}=E$ and return to step (2)</li>\n",
    "\t\t\t<li>If $n'>n$, then set $E_{max}=E$ and return to step (2)</li>\n",
    "\t\t\t<li>if $n'=n$, then the correct eigenstate is being computed</li>\n",
    "\t\t</ol></li><br>\n",
    "\t<li>Bisect the energy eigenvalue bounds to better approximate the boundary condition $\\psi^{(E)}_{N-1}\\approx 0$\n",
    "\t\t<ol>\n",
    "\t\t\t<li>If $\\psi^{(E)}_{N-1}>0$, then set $E_{min}=E$</li>\n",
    "\t\t\t<li> If $\\psi^{(E)}_{N-1}<0$, then set $E_{max}=E$</li>\n",
    "\t\t</ol></li><br>\n",
    "\t<li>Check energy eigenvalue convergence: $$|E_{max}-E_{min}|\\leq \\epsilon~~\\text{or}~~|\\psi^{(E)}_{N-1}|\\leq \\epsilon~~\\text{for some}~~ \\epsilon\\ll 1$$\n",
    "\t<ol>\n",
    "\t\t<li>if the solution is not convergent, return to step (2)</li>\n",
    "\t\t<li>if the solution is convergent, use numerical integration to normalise the solution $\\psi^{(E)}_{N-1}$. This then provides the $n$th eigenstate $\\psi_n(x)$, with energy $E_n=E$.</li>\n",
    "\t</ol></li>\n",
    "</ol>\n",
    "</div>"
   ]
  },
  {
   "cell_type": "markdown",
   "metadata": {},
   "source": [
    "## The Morse potential\n",
    "The one-dimensional Morse potential,\n",
    "<br>\n",
    "\\begin{align*}\n",
    "\tV(x) = C_0 + D_e\\left(1-e^{-a(x-x_e)}\\right)^2\n",
    "\\end{align*}\n",
    "<br>\n",
    "is commonly used to model the potential energy between two atoms of a diatomic molecule. Here, $x$ is the distance between the atoms, $x_e$ is the equilibrium bond distance, $D_e$ is the well depth, and $a$ is a constant parameter."
   ]
  },
  {
   "cell_type": "code",
   "execution_count": 148,
   "metadata": {
    "collapsed": true
   },
   "outputs": [],
   "source": [
    "dx = 0.001\n",
    "x = np.arange(0,8+dx,dx)\n",
    "V = 6.4 + 0.3*(1-np.exp(-(x-1.6)))**2"
   ]
  },
  {
   "cell_type": "code",
   "execution_count": 149,
   "metadata": {
    "collapsed": false,
    "scrolled": true
   },
   "outputs": [
    {
     "data": {
      "text/plain": [
       "<matplotlib.text.Text at 0x7f6f99944c18>"
      ]
     },
     "execution_count": 149,
     "metadata": {},
     "output_type": "execute_result"
    },
    {
     "data": {
      "image/png": "[encoded data removed]",
      "text/plain": [
       "<matplotlib.figure.Figure at 0x7f6f992c9e48>"
      ]
     },
     "metadata": {},
     "output_type": "display_data"
    }
   ],
   "source": [
    "plt.plot(x,V)\n",
    "plt.grid(alpha=0.2)\n",
    "plt.xlabel('$x$')\n",
    "plt.ylabel('$V(x)$')"
   ]
  },
  {
   "cell_type": "markdown",
   "metadata": {},
   "source": [
    "\n",
    "\n",
    "<div class=\"alert alert-info\">\n",
    "**Problem 4: The Morse potential**\n",
    "<br>\n",
    "\n",
    "<ol>\n",
    "<li>Use the shooting method to obtain the energy and wavefunction for the **ground state** ($n=0$) of the one-dimensional Morse potential, for the case $C_0=6.4$, $D_e=0.3$, $a=1$, and $x_e=1.6$.\n",
    "<br><br>\n",
    "Use atomic units ($\\hbar=m=1$), and the discretized domain $0\\leq x\\leq 8$, with an appropriate value for $\\Delta x$.\n",
    "<br>\n",
    "\n",
    "</li>\n",
    "<br>\n",
    "<li>The exact solution for the ground state energy is $$E_0=\\frac{251+4\\sqrt{15}}{40}$$ What is the fractional error in your result?</li>\n",
    "</ol>\n",
    "</div>"
   ]
  },
  {
   "cell_type": "code",
   "execution_count": null,
   "metadata": {
    "collapsed": false
   },
   "outputs": [],
   "source": []
  }
 ],
 "metadata": {
  "kernelspec": {
   "display_name": "Python 3",
   "language": "python",
   "name": "python3"
  },
  "language_info": {
   "codemirror_mode": {
    "name": "ipython",
    "version": 3
   },
   "file_extension": ".py",
   "mimetype": "text/x-python",
   "name": "python",
   "nbconvert_exporter": "python",
   "pygments_lexer": "ipython3",
   "version": "3.4.3"
  },
  "latex_envs": {
   "LaTeX_envs_menu_present": true,
   "autocomplete": true,
   "bibliofile": "biblio.bib",
   "cite_by": "apalike",
   "current_citInitial": 1,
   "eqLabelWithNumbers": true,
   "eqNumInitial": 1,
   "hotkeys": {
    "equation": "Ctrl-E",
    "itemize": "Ctrl-I"
   },
   "labels_anchors": false,
   "latex_user_defs": false,
   "report_style_numbering": false,
   "user_envs_cfg": false
  },
  "toc": {
   "nav_menu": {},
   "number_sections": true,
   "sideBar": true,
   "skip_h1_title": false,
   "toc_cell": true,
   "toc_position": {},
   "toc_section_display": "block",
   "toc_window_display": true
  }
 },
 "nbformat": 4,
 "nbformat_minor": 2
}
